{
 "cells": [
  {
   "cell_type": "markdown",
   "metadata": {},
   "source": [
    "# Projet sur les arbres de Grenoble"
   ]
  },
  {
   "cell_type": "markdown",
   "metadata": {},
   "source": [
    "On reprend ce qu'on a fait les jours précédents mais avec pandas pour se simplifier la vie."
   ]
  },
  {
   "cell_type": "code",
   "execution_count": 183,
   "metadata": {},
   "outputs": [],
   "source": [
    "#coding: utf-8\n",
    "\n",
    "import numpy as np\n",
    "import pandas as pd\n",
    "import matplotlib.pyplot as plt\n",
    "from pathlib import Path"
   ]
  },
  {
   "cell_type": "code",
   "execution_count": 4,
   "metadata": {},
   "outputs": [
    {
     "name": "stdout",
     "output_type": "stream",
     "text": [
      "True\n"
     ]
    }
   ],
   "source": [
    "data_path = Path.cwd().parent / 'data/ESP_PUBLIC.IDENTITE_ARBRE.csv'\n",
    "print(data_path.exists())"
   ]
  },
  {
   "cell_type": "code",
   "execution_count": 5,
   "metadata": {},
   "outputs": [],
   "source": [
    "raw_data = pd.read_csv(data_path)"
   ]
  },
  {
   "cell_type": "markdown",
   "metadata": {},
   "source": [
    "Un petit peu d'exploration de données pour commencer."
   ]
  },
  {
   "cell_type": "code",
   "execution_count": 7,
   "metadata": {},
   "outputs": [
    {
     "data": {
      "text/html": [
       "<div>\n",
       "<style scoped>\n",
       "    .dataframe tbody tr th:only-of-type {\n",
       "        vertical-align: middle;\n",
       "    }\n",
       "\n",
       "    .dataframe tbody tr th {\n",
       "        vertical-align: top;\n",
       "    }\n",
       "\n",
       "    .dataframe thead th {\n",
       "        text-align: right;\n",
       "    }\n",
       "</style>\n",
       "<table border=\"1\" class=\"dataframe\">\n",
       "  <thead>\n",
       "    <tr style=\"text-align: right;\">\n",
       "      <th></th>\n",
       "      <th>ELEM_POINT_ID</th>\n",
       "      <th>CODE</th>\n",
       "      <th>NOM</th>\n",
       "      <th>GENRE</th>\n",
       "      <th>GENRE_DESC</th>\n",
       "      <th>CATEGORIE</th>\n",
       "      <th>CATEGORIE_DESC</th>\n",
       "      <th>SOUS_CATEGORIE</th>\n",
       "      <th>SOUS_CATEGORIE_DESC</th>\n",
       "      <th>CODE_PARENT</th>\n",
       "      <th>...</th>\n",
       "      <th>COURRIER</th>\n",
       "      <th>IDENTIFIANTPLU</th>\n",
       "      <th>TYPEIMPLANTATIONPLU</th>\n",
       "      <th>INTITULEPROTECTIONPLU</th>\n",
       "      <th>ANNEEABATTAGE</th>\n",
       "      <th>ESSOUCHEMENT</th>\n",
       "      <th>DIAMETREARBRE</th>\n",
       "      <th>CAUSEABATTAGE</th>\n",
       "      <th>COLLECTIVITE</th>\n",
       "      <th>GeoJSON</th>\n",
       "    </tr>\n",
       "  </thead>\n",
       "  <tbody>\n",
       "    <tr>\n",
       "      <th>0</th>\n",
       "      <td>16750</td>\n",
       "      <td>ESP19318</td>\n",
       "      <td>ESP19318</td>\n",
       "      <td>VEG</td>\n",
       "      <td>VEGETATION</td>\n",
       "      <td>ESP01</td>\n",
       "      <td>Arbre</td>\n",
       "      <td>ESP174</td>\n",
       "      <td>Arbre d'espaces ouverts</td>\n",
       "      <td>ESP995</td>\n",
       "      <td>...</td>\n",
       "      <td>NaN</td>\n",
       "      <td>NaN</td>\n",
       "      <td>NaN</td>\n",
       "      <td>NaN</td>\n",
       "      <td>NaN</td>\n",
       "      <td>NaN</td>\n",
       "      <td>NaN</td>\n",
       "      <td>NaN</td>\n",
       "      <td>Ville de Grenoble</td>\n",
       "      <td>{\"type\":\"Point\",\"coordinates\":[5.7394161255246...</td>\n",
       "    </tr>\n",
       "    <tr>\n",
       "      <th>1</th>\n",
       "      <td>20142</td>\n",
       "      <td>ESP18095</td>\n",
       "      <td>ESP18095</td>\n",
       "      <td>VEG</td>\n",
       "      <td>VEGETATION</td>\n",
       "      <td>ESP01</td>\n",
       "      <td>Arbre</td>\n",
       "      <td>ESP174</td>\n",
       "      <td>Arbre d'espaces ouverts</td>\n",
       "      <td>ESP995</td>\n",
       "      <td>...</td>\n",
       "      <td>NaN</td>\n",
       "      <td>NaN</td>\n",
       "      <td>NaN</td>\n",
       "      <td>NaN</td>\n",
       "      <td>NaN</td>\n",
       "      <td>NaN</td>\n",
       "      <td>NaN</td>\n",
       "      <td>NaN</td>\n",
       "      <td>Ville de Grenoble</td>\n",
       "      <td>{\"type\":\"Point\",\"coordinates\":[5.7397428849165...</td>\n",
       "    </tr>\n",
       "    <tr>\n",
       "      <th>2</th>\n",
       "      <td>23843</td>\n",
       "      <td>ESP17861</td>\n",
       "      <td>ESP17861</td>\n",
       "      <td>VEG</td>\n",
       "      <td>VEGETATION</td>\n",
       "      <td>ESP01</td>\n",
       "      <td>Arbre</td>\n",
       "      <td>ESP174</td>\n",
       "      <td>Arbre d'espaces ouverts</td>\n",
       "      <td>ESP995</td>\n",
       "      <td>...</td>\n",
       "      <td>NaN</td>\n",
       "      <td>NaN</td>\n",
       "      <td>NaN</td>\n",
       "      <td>NaN</td>\n",
       "      <td>NaN</td>\n",
       "      <td>NaN</td>\n",
       "      <td>NaN</td>\n",
       "      <td>NaN</td>\n",
       "      <td>Ville de Grenoble</td>\n",
       "      <td>{\"type\":\"Point\",\"coordinates\":[5.7393229609447...</td>\n",
       "    </tr>\n",
       "    <tr>\n",
       "      <th>3</th>\n",
       "      <td>23841</td>\n",
       "      <td>ESP17860</td>\n",
       "      <td>ESP17860</td>\n",
       "      <td>VEG</td>\n",
       "      <td>VEGETATION</td>\n",
       "      <td>ESP01</td>\n",
       "      <td>Arbre</td>\n",
       "      <td>ESP174</td>\n",
       "      <td>Arbre d'espaces ouverts</td>\n",
       "      <td>ESP995</td>\n",
       "      <td>...</td>\n",
       "      <td>NaN</td>\n",
       "      <td>NaN</td>\n",
       "      <td>NaN</td>\n",
       "      <td>NaN</td>\n",
       "      <td>NaN</td>\n",
       "      <td>NaN</td>\n",
       "      <td>NaN</td>\n",
       "      <td>NaN</td>\n",
       "      <td>Ville de Grenoble</td>\n",
       "      <td>{\"type\":\"Point\",\"coordinates\":[5.7410808202830...</td>\n",
       "    </tr>\n",
       "    <tr>\n",
       "      <th>4</th>\n",
       "      <td>1778</td>\n",
       "      <td>ESP16403</td>\n",
       "      <td>ESP16403</td>\n",
       "      <td>VEG</td>\n",
       "      <td>VEGETATION</td>\n",
       "      <td>ESP01</td>\n",
       "      <td>Arbre</td>\n",
       "      <td>ESP174</td>\n",
       "      <td>Arbre d'espaces ouverts</td>\n",
       "      <td>ESP995</td>\n",
       "      <td>...</td>\n",
       "      <td>NaN</td>\n",
       "      <td>NaN</td>\n",
       "      <td>NaN</td>\n",
       "      <td>NaN</td>\n",
       "      <td>NaN</td>\n",
       "      <td>NaN</td>\n",
       "      <td>NaN</td>\n",
       "      <td>NaN</td>\n",
       "      <td>Ville de Grenoble</td>\n",
       "      <td>{\"type\":\"Point\",\"coordinates\":[5.7408124079286...</td>\n",
       "    </tr>\n",
       "  </tbody>\n",
       "</table>\n",
       "<p>5 rows × 32 columns</p>\n",
       "</div>"
      ],
      "text/plain": [
       "   ELEM_POINT_ID      CODE       NOM GENRE  GENRE_DESC CATEGORIE  \\\n",
       "0          16750  ESP19318  ESP19318   VEG  VEGETATION     ESP01   \n",
       "1          20142  ESP18095  ESP18095   VEG  VEGETATION     ESP01   \n",
       "2          23843  ESP17861  ESP17861   VEG  VEGETATION     ESP01   \n",
       "3          23841  ESP17860  ESP17860   VEG  VEGETATION     ESP01   \n",
       "4           1778  ESP16403  ESP16403   VEG  VEGETATION     ESP01   \n",
       "\n",
       "  CATEGORIE_DESC SOUS_CATEGORIE      SOUS_CATEGORIE_DESC CODE_PARENT  ...  \\\n",
       "0          Arbre         ESP174  Arbre d'espaces ouverts      ESP995  ...   \n",
       "1          Arbre         ESP174  Arbre d'espaces ouverts      ESP995  ...   \n",
       "2          Arbre         ESP174  Arbre d'espaces ouverts      ESP995  ...   \n",
       "3          Arbre         ESP174  Arbre d'espaces ouverts      ESP995  ...   \n",
       "4          Arbre         ESP174  Arbre d'espaces ouverts      ESP995  ...   \n",
       "\n",
       "  COURRIER  IDENTIFIANTPLU TYPEIMPLANTATIONPLU INTITULEPROTECTIONPLU  \\\n",
       "0      NaN             NaN                 NaN                   NaN   \n",
       "1      NaN             NaN                 NaN                   NaN   \n",
       "2      NaN             NaN                 NaN                   NaN   \n",
       "3      NaN             NaN                 NaN                   NaN   \n",
       "4      NaN             NaN                 NaN                   NaN   \n",
       "\n",
       "  ANNEEABATTAGE ESSOUCHEMENT DIAMETREARBRE  CAUSEABATTAGE       COLLECTIVITE  \\\n",
       "0           NaN          NaN           NaN            NaN  Ville de Grenoble   \n",
       "1           NaN          NaN           NaN            NaN  Ville de Grenoble   \n",
       "2           NaN          NaN           NaN            NaN  Ville de Grenoble   \n",
       "3           NaN          NaN           NaN            NaN  Ville de Grenoble   \n",
       "4           NaN          NaN           NaN            NaN  Ville de Grenoble   \n",
       "\n",
       "                                             GeoJSON  \n",
       "0  {\"type\":\"Point\",\"coordinates\":[5.7394161255246...  \n",
       "1  {\"type\":\"Point\",\"coordinates\":[5.7397428849165...  \n",
       "2  {\"type\":\"Point\",\"coordinates\":[5.7393229609447...  \n",
       "3  {\"type\":\"Point\",\"coordinates\":[5.7410808202830...  \n",
       "4  {\"type\":\"Point\",\"coordinates\":[5.7408124079286...  \n",
       "\n",
       "[5 rows x 32 columns]"
      ]
     },
     "execution_count": 7,
     "metadata": {},
     "output_type": "execute_result"
    }
   ],
   "source": [
    "raw_data.head()"
   ]
  },
  {
   "cell_type": "code",
   "execution_count": 8,
   "metadata": {},
   "outputs": [
    {
     "data": {
      "text/html": [
       "<div>\n",
       "<style scoped>\n",
       "    .dataframe tbody tr th:only-of-type {\n",
       "        vertical-align: middle;\n",
       "    }\n",
       "\n",
       "    .dataframe tbody tr th {\n",
       "        vertical-align: top;\n",
       "    }\n",
       "\n",
       "    .dataframe thead th {\n",
       "        text-align: right;\n",
       "    }\n",
       "</style>\n",
       "<table border=\"1\" class=\"dataframe\">\n",
       "  <thead>\n",
       "    <tr style=\"text-align: right;\">\n",
       "      <th></th>\n",
       "      <th>ELEM_POINT_ID</th>\n",
       "      <th>ADR_SECTEUR</th>\n",
       "      <th>EQUIPE</th>\n",
       "      <th>ANNEEDEPLANTATION</th>\n",
       "      <th>COURRIER</th>\n",
       "      <th>IDENTIFIANTPLU</th>\n",
       "      <th>ANNEEABATTAGE</th>\n",
       "      <th>ESSOUCHEMENT</th>\n",
       "      <th>DIAMETREARBRE</th>\n",
       "      <th>CAUSEABATTAGE</th>\n",
       "    </tr>\n",
       "  </thead>\n",
       "  <tbody>\n",
       "    <tr>\n",
       "      <th>count</th>\n",
       "      <td>31892.000000</td>\n",
       "      <td>31892.000000</td>\n",
       "      <td>0.0</td>\n",
       "      <td>31129.000000</td>\n",
       "      <td>0.0</td>\n",
       "      <td>604.000000</td>\n",
       "      <td>0.0</td>\n",
       "      <td>0.0</td>\n",
       "      <td>0.0</td>\n",
       "      <td>0.0</td>\n",
       "    </tr>\n",
       "    <tr>\n",
       "      <th>mean</th>\n",
       "      <td>18904.750784</td>\n",
       "      <td>3.860341</td>\n",
       "      <td>NaN</td>\n",
       "      <td>1989.208809</td>\n",
       "      <td>NaN</td>\n",
       "      <td>87.713576</td>\n",
       "      <td>NaN</td>\n",
       "      <td>NaN</td>\n",
       "      <td>NaN</td>\n",
       "      <td>NaN</td>\n",
       "    </tr>\n",
       "    <tr>\n",
       "      <th>std</th>\n",
       "      <td>11502.906146</td>\n",
       "      <td>1.697591</td>\n",
       "      <td>NaN</td>\n",
       "      <td>17.110732</td>\n",
       "      <td>NaN</td>\n",
       "      <td>60.484164</td>\n",
       "      <td>NaN</td>\n",
       "      <td>NaN</td>\n",
       "      <td>NaN</td>\n",
       "      <td>NaN</td>\n",
       "    </tr>\n",
       "    <tr>\n",
       "      <th>min</th>\n",
       "      <td>1.000000</td>\n",
       "      <td>1.000000</td>\n",
       "      <td>NaN</td>\n",
       "      <td>1924.000000</td>\n",
       "      <td>NaN</td>\n",
       "      <td>2.000000</td>\n",
       "      <td>NaN</td>\n",
       "      <td>NaN</td>\n",
       "      <td>NaN</td>\n",
       "      <td>NaN</td>\n",
       "    </tr>\n",
       "    <tr>\n",
       "      <th>25%</th>\n",
       "      <td>9147.750000</td>\n",
       "      <td>2.000000</td>\n",
       "      <td>NaN</td>\n",
       "      <td>1975.000000</td>\n",
       "      <td>NaN</td>\n",
       "      <td>67.000000</td>\n",
       "      <td>NaN</td>\n",
       "      <td>NaN</td>\n",
       "      <td>NaN</td>\n",
       "      <td>NaN</td>\n",
       "    </tr>\n",
       "    <tr>\n",
       "      <th>50%</th>\n",
       "      <td>18361.500000</td>\n",
       "      <td>4.000000</td>\n",
       "      <td>NaN</td>\n",
       "      <td>1985.000000</td>\n",
       "      <td>NaN</td>\n",
       "      <td>70.000000</td>\n",
       "      <td>NaN</td>\n",
       "      <td>NaN</td>\n",
       "      <td>NaN</td>\n",
       "      <td>NaN</td>\n",
       "    </tr>\n",
       "    <tr>\n",
       "      <th>75%</th>\n",
       "      <td>27620.250000</td>\n",
       "      <td>5.000000</td>\n",
       "      <td>NaN</td>\n",
       "      <td>2004.000000</td>\n",
       "      <td>NaN</td>\n",
       "      <td>70.000000</td>\n",
       "      <td>NaN</td>\n",
       "      <td>NaN</td>\n",
       "      <td>NaN</td>\n",
       "      <td>NaN</td>\n",
       "    </tr>\n",
       "    <tr>\n",
       "      <th>max</th>\n",
       "      <td>43866.000000</td>\n",
       "      <td>6.000000</td>\n",
       "      <td>NaN</td>\n",
       "      <td>2019.000000</td>\n",
       "      <td>NaN</td>\n",
       "      <td>358.000000</td>\n",
       "      <td>NaN</td>\n",
       "      <td>NaN</td>\n",
       "      <td>NaN</td>\n",
       "      <td>NaN</td>\n",
       "    </tr>\n",
       "  </tbody>\n",
       "</table>\n",
       "</div>"
      ],
      "text/plain": [
       "       ELEM_POINT_ID   ADR_SECTEUR  EQUIPE  ANNEEDEPLANTATION  COURRIER  \\\n",
       "count   31892.000000  31892.000000     0.0       31129.000000       0.0   \n",
       "mean    18904.750784      3.860341     NaN        1989.208809       NaN   \n",
       "std     11502.906146      1.697591     NaN          17.110732       NaN   \n",
       "min         1.000000      1.000000     NaN        1924.000000       NaN   \n",
       "25%      9147.750000      2.000000     NaN        1975.000000       NaN   \n",
       "50%     18361.500000      4.000000     NaN        1985.000000       NaN   \n",
       "75%     27620.250000      5.000000     NaN        2004.000000       NaN   \n",
       "max     43866.000000      6.000000     NaN        2019.000000       NaN   \n",
       "\n",
       "       IDENTIFIANTPLU  ANNEEABATTAGE  ESSOUCHEMENT  DIAMETREARBRE  \\\n",
       "count      604.000000            0.0           0.0            0.0   \n",
       "mean        87.713576            NaN           NaN            NaN   \n",
       "std         60.484164            NaN           NaN            NaN   \n",
       "min          2.000000            NaN           NaN            NaN   \n",
       "25%         67.000000            NaN           NaN            NaN   \n",
       "50%         70.000000            NaN           NaN            NaN   \n",
       "75%         70.000000            NaN           NaN            NaN   \n",
       "max        358.000000            NaN           NaN            NaN   \n",
       "\n",
       "       CAUSEABATTAGE  \n",
       "count            0.0  \n",
       "mean             NaN  \n",
       "std              NaN  \n",
       "min              NaN  \n",
       "25%              NaN  \n",
       "50%              NaN  \n",
       "75%              NaN  \n",
       "max              NaN  "
      ]
     },
     "execution_count": 8,
     "metadata": {},
     "output_type": "execute_result"
    }
   ],
   "source": [
    "raw_data.describe()"
   ]
  },
  {
   "cell_type": "code",
   "execution_count": 10,
   "metadata": {},
   "outputs": [
    {
     "data": {
      "text/plain": [
       "Index(['ELEM_POINT_ID', 'CODE', 'NOM', 'GENRE', 'GENRE_DESC', 'CATEGORIE',\n",
       "       'CATEGORIE_DESC', 'SOUS_CATEGORIE', 'SOUS_CATEGORIE_DESC',\n",
       "       'CODE_PARENT', 'CODE_PARENT_DESC', 'ADR_SECTEUR', 'BIEN_REFERENCE',\n",
       "       'GENRE_BOTA', 'ESPECE', 'VARIETE', 'STADEDEDEVELOPPEMENT', 'EQUIPE',\n",
       "       'REMARQUES', 'ANNEEDEPLANTATION', 'RAISONDEPLANTATION',\n",
       "       'TRAITEMENTCHENILLES', 'COURRIER', 'IDENTIFIANTPLU',\n",
       "       'TYPEIMPLANTATIONPLU', 'INTITULEPROTECTIONPLU', 'ANNEEABATTAGE',\n",
       "       'ESSOUCHEMENT', 'DIAMETREARBRE', 'CAUSEABATTAGE', 'COLLECTIVITE',\n",
       "       'GeoJSON'],\n",
       "      dtype='object')"
      ]
     },
     "execution_count": 10,
     "metadata": {},
     "output_type": "execute_result"
    }
   ],
   "source": [
    "raw_data.columns"
   ]
  },
  {
   "cell_type": "markdown",
   "metadata": {},
   "source": [
    "## Retour sur l'activité 1"
   ]
  },
  {
   "cell_type": "code",
   "execution_count": 14,
   "metadata": {},
   "outputs": [
    {
     "data": {
      "text/plain": [
       "0    1975.0\n",
       "1    1975.0\n",
       "2    2001.0\n",
       "3    1975.0\n",
       "4    2006.0\n",
       "5    1975.0\n",
       "6    1975.0\n",
       "7    1975.0\n",
       "8    1975.0\n",
       "9    2001.0\n",
       "Name: ANNEEDEPLANTATION, dtype: float64"
      ]
     },
     "execution_count": 14,
     "metadata": {},
     "output_type": "execute_result"
    }
   ],
   "source": [
    "annee_plantation = raw_data.ANNEEDEPLANTATION\n",
    "#annee_plantation = raw_data['ANNEEDEPLANTATION']\n",
    "annee_plantation[:10]"
   ]
  },
  {
   "cell_type": "code",
   "execution_count": 20,
   "metadata": {},
   "outputs": [
    {
     "data": {
      "text/plain": [
       "1975.0    3783\n",
       "2001.0    1606\n",
       "1980.0    1511\n",
       "1970.0    1391\n",
       "2015.0    1028\n",
       "          ... \n",
       "1944.0      27\n",
       "1959.0      16\n",
       "1924.0      12\n",
       "2019.0       7\n",
       "1964.0       6\n",
       "Name: ANNEEDEPLANTATION, Length: 62, dtype: int64"
      ]
     },
     "execution_count": 20,
     "metadata": {},
     "output_type": "execute_result"
    }
   ],
   "source": [
    "raw_data.ANNEEDEPLANTATION.value_counts()"
   ]
  },
  {
   "cell_type": "code",
   "execution_count": 26,
   "metadata": {},
   "outputs": [
    {
     "data": {
      "text/plain": [
       "True"
      ]
     },
     "execution_count": 26,
     "metadata": {},
     "output_type": "execute_result"
    }
   ],
   "source": [
    "annee_plantation.isna().any()"
   ]
  },
  {
   "cell_type": "code",
   "execution_count": 69,
   "metadata": {},
   "outputs": [
    {
     "data": {
      "text/plain": [
       "763"
      ]
     },
     "execution_count": 69,
     "metadata": {},
     "output_type": "execute_result"
    }
   ],
   "source": [
    "len(annee_plantation[annee_plantation.isna()])\n",
    "#raw_data.ANNEEDEPLANTATION.isna().sum()"
   ]
  },
  {
   "cell_type": "code",
   "execution_count": 31,
   "metadata": {},
   "outputs": [
    {
     "data": {
      "text/plain": [
       "31892"
      ]
     },
     "execution_count": 31,
     "metadata": {},
     "output_type": "execute_result"
    }
   ],
   "source": [
    "raw_data['ELEM_POINT_ID'].count()"
   ]
  },
  {
   "cell_type": "code",
   "execution_count": 35,
   "metadata": {},
   "outputs": [
    {
     "data": {
      "text/plain": [
       "Series([], Name: ANNEEABATTAGE, dtype: int64)"
      ]
     },
     "execution_count": 35,
     "metadata": {},
     "output_type": "execute_result"
    }
   ],
   "source": [
    "raw_data.ANNEEABATTAGE.value_counts()"
   ]
  },
  {
   "cell_type": "markdown",
   "metadata": {},
   "source": [
    "La donnee année d'abattage semble manquante pour tous les arbres. Je tente avec le fichier en ligne."
   ]
  },
  {
   "cell_type": "code",
   "execution_count": 36,
   "metadata": {},
   "outputs": [
    {
     "data": {
      "text/plain": [
       "Series([], Name: ANNEEABATTAGE, dtype: int64)"
      ]
     },
     "execution_count": 36,
     "metadata": {},
     "output_type": "execute_result"
    }
   ],
   "source": [
    "data_path2 = Path.cwd().parent / 'data/ESP_PUBLIC.IDENTITE_ARBRE_2.csv'\n",
    "new_data = pd.read_csv(data_path2)\n",
    "new_data.ANNEEABATTAGE.value_counts()"
   ]
  },
  {
   "cell_type": "code",
   "execution_count": 37,
   "metadata": {},
   "outputs": [
    {
     "data": {
      "text/plain": [
       "Arbre adulte          22180\n",
       "Arbre jeune            7110\n",
       "Arbre vieillissant      221\n",
       "Name: STADEDEDEVELOPPEMENT, dtype: int64"
      ]
     },
     "execution_count": 37,
     "metadata": {},
     "output_type": "execute_result"
    }
   ],
   "source": [
    "raw_data.STADEDEDEVELOPPEMENT.value_counts()"
   ]
  },
  {
   "cell_type": "code",
   "execution_count": 38,
   "metadata": {},
   "outputs": [
    {
     "data": {
      "text/plain": [
       "Arbre adulte          22180\n",
       "Arbre jeune            7110\n",
       "Arbre vieillissant      221\n",
       "Name: STADEDEDEVELOPPEMENT, dtype: int64"
      ]
     },
     "execution_count": 38,
     "metadata": {},
     "output_type": "execute_result"
    }
   ],
   "source": [
    "new_data.STADEDEDEVELOPPEMENT.value_counts()"
   ]
  },
  {
   "cell_type": "markdown",
   "metadata": {},
   "source": [
    "Moyenne des arbres planté chaque année"
   ]
  },
  {
   "cell_type": "code",
   "execution_count": 45,
   "metadata": {},
   "outputs": [
    {
     "data": {
      "text/plain": [
       "ANNEEDEPLANTATION\n",
       "1924.0      12\n",
       "1944.0      27\n",
       "1950.0     409\n",
       "1955.0     118\n",
       "1959.0      16\n",
       "          ... \n",
       "2015.0    1028\n",
       "2016.0     518\n",
       "2017.0     638\n",
       "2018.0     778\n",
       "2019.0       7\n",
       "Name: ELEM_POINT_ID, Length: 62, dtype: int64"
      ]
     },
     "execution_count": 45,
     "metadata": {},
     "output_type": "execute_result"
    }
   ],
   "source": [
    "df = raw_data.groupby('ANNEEDEPLANTATION').count()\n",
    "df['ELEM_POINT_ID']"
   ]
  },
  {
   "cell_type": "code",
   "execution_count": 47,
   "metadata": {},
   "outputs": [
    {
     "data": {
      "text/plain": [
       "502.0806451612903"
      ]
     },
     "execution_count": 47,
     "metadata": {},
     "output_type": "execute_result"
    }
   ],
   "source": [
    "df['ELEM_POINT_ID'].mean()"
   ]
  },
  {
   "cell_type": "code",
   "execution_count": 58,
   "metadata": {},
   "outputs": [],
   "source": [
    "col_list = [\n",
    "    'ELEM_POINT_ID',\n",
    "    'GENRE_BOTA',\n",
    "    'ESPECE',\n",
    "    'ANNEEDEPLANTATION',\n",
    "    'STADEDEDEVELOPPEMENT',\n",
    "    'BIEN_REFERENCE'\n",
    "]\n",
    "# liste des colonnes intéressantes à afficher"
   ]
  },
  {
   "cell_type": "code",
   "execution_count": 59,
   "metadata": {},
   "outputs": [
    {
     "data": {
      "text/html": [
       "<div>\n",
       "<style scoped>\n",
       "    .dataframe tbody tr th:only-of-type {\n",
       "        vertical-align: middle;\n",
       "    }\n",
       "\n",
       "    .dataframe tbody tr th {\n",
       "        vertical-align: top;\n",
       "    }\n",
       "\n",
       "    .dataframe thead th {\n",
       "        text-align: right;\n",
       "    }\n",
       "</style>\n",
       "<table border=\"1\" class=\"dataframe\">\n",
       "  <thead>\n",
       "    <tr style=\"text-align: right;\">\n",
       "      <th></th>\n",
       "      <th>ELEM_POINT_ID</th>\n",
       "      <th>GENRE_BOTA</th>\n",
       "      <th>ESPECE</th>\n",
       "      <th>ANNEEDEPLANTATION</th>\n",
       "      <th>STADEDEDEVELOPPEMENT</th>\n",
       "      <th>BIEN_REFERENCE</th>\n",
       "    </tr>\n",
       "  </thead>\n",
       "  <tbody>\n",
       "    <tr>\n",
       "      <th>4949</th>\n",
       "      <td>6527</td>\n",
       "      <td>Gleditsia</td>\n",
       "      <td>triacanthos</td>\n",
       "      <td>1991.0</td>\n",
       "      <td>Arbre adulte</td>\n",
       "      <td>AR29490</td>\n",
       "    </tr>\n",
       "    <tr>\n",
       "      <th>4951</th>\n",
       "      <td>2721</td>\n",
       "      <td>Gleditsia</td>\n",
       "      <td>triacanthos</td>\n",
       "      <td>1991.0</td>\n",
       "      <td>Arbre adulte</td>\n",
       "      <td>AR26758</td>\n",
       "    </tr>\n",
       "    <tr>\n",
       "      <th>4952</th>\n",
       "      <td>17715</td>\n",
       "      <td>Gleditsia</td>\n",
       "      <td>triacanthos</td>\n",
       "      <td>1991.0</td>\n",
       "      <td>Arbre adulte</td>\n",
       "      <td>AR25489</td>\n",
       "    </tr>\n",
       "    <tr>\n",
       "      <th>5196</th>\n",
       "      <td>28583</td>\n",
       "      <td>Gleditsia</td>\n",
       "      <td>triacanthos</td>\n",
       "      <td>1991.0</td>\n",
       "      <td>Arbre adulte</td>\n",
       "      <td>AR7911</td>\n",
       "    </tr>\n",
       "    <tr>\n",
       "      <th>7870</th>\n",
       "      <td>12354</td>\n",
       "      <td>Tilia</td>\n",
       "      <td>tomentosa</td>\n",
       "      <td>1991.0</td>\n",
       "      <td>Arbre adulte</td>\n",
       "      <td>AR30593</td>\n",
       "    </tr>\n",
       "    <tr>\n",
       "      <th>...</th>\n",
       "      <td>...</td>\n",
       "      <td>...</td>\n",
       "      <td>...</td>\n",
       "      <td>...</td>\n",
       "      <td>...</td>\n",
       "      <td>...</td>\n",
       "    </tr>\n",
       "    <tr>\n",
       "      <th>25982</th>\n",
       "      <td>9402</td>\n",
       "      <td>Liquidambar</td>\n",
       "      <td>styraciflua</td>\n",
       "      <td>1991.0</td>\n",
       "      <td>Arbre adulte</td>\n",
       "      <td>AR4960</td>\n",
       "    </tr>\n",
       "    <tr>\n",
       "      <th>25983</th>\n",
       "      <td>13206</td>\n",
       "      <td>Prunus</td>\n",
       "      <td>cerasifera</td>\n",
       "      <td>1991.0</td>\n",
       "      <td>Arbre adulte</td>\n",
       "      <td>AR4337</td>\n",
       "    </tr>\n",
       "    <tr>\n",
       "      <th>31037</th>\n",
       "      <td>15859</td>\n",
       "      <td>Fraxinus</td>\n",
       "      <td>excelsior</td>\n",
       "      <td>1991.0</td>\n",
       "      <td>Arbre adulte</td>\n",
       "      <td>AR23095</td>\n",
       "    </tr>\n",
       "    <tr>\n",
       "      <th>31122</th>\n",
       "      <td>8376</td>\n",
       "      <td>Fraxinus</td>\n",
       "      <td>excelsior</td>\n",
       "      <td>1991.0</td>\n",
       "      <td>Arbre adulte</td>\n",
       "      <td>AR13671</td>\n",
       "    </tr>\n",
       "    <tr>\n",
       "      <th>31123</th>\n",
       "      <td>4584</td>\n",
       "      <td>Fraxinus</td>\n",
       "      <td>excelsior</td>\n",
       "      <td>1991.0</td>\n",
       "      <td>Arbre adulte</td>\n",
       "      <td>AR11440</td>\n",
       "    </tr>\n",
       "  </tbody>\n",
       "</table>\n",
       "<p>144 rows × 6 columns</p>\n",
       "</div>"
      ],
      "text/plain": [
       "       ELEM_POINT_ID   GENRE_BOTA       ESPECE  ANNEEDEPLANTATION  \\\n",
       "4949            6527    Gleditsia  triacanthos             1991.0   \n",
       "4951            2721    Gleditsia  triacanthos             1991.0   \n",
       "4952           17715    Gleditsia  triacanthos             1991.0   \n",
       "5196           28583    Gleditsia  triacanthos             1991.0   \n",
       "7870           12354        Tilia    tomentosa             1991.0   \n",
       "...              ...          ...          ...                ...   \n",
       "25982           9402  Liquidambar  styraciflua             1991.0   \n",
       "25983          13206       Prunus   cerasifera             1991.0   \n",
       "31037          15859     Fraxinus    excelsior             1991.0   \n",
       "31122           8376     Fraxinus    excelsior             1991.0   \n",
       "31123           4584     Fraxinus    excelsior             1991.0   \n",
       "\n",
       "      STADEDEDEVELOPPEMENT BIEN_REFERENCE  \n",
       "4949          Arbre adulte        AR29490  \n",
       "4951          Arbre adulte        AR26758  \n",
       "4952          Arbre adulte        AR25489  \n",
       "5196          Arbre adulte         AR7911  \n",
       "7870          Arbre adulte        AR30593  \n",
       "...                    ...            ...  \n",
       "25982         Arbre adulte         AR4960  \n",
       "25983         Arbre adulte         AR4337  \n",
       "31037         Arbre adulte        AR23095  \n",
       "31122         Arbre adulte        AR13671  \n",
       "31123         Arbre adulte        AR11440  \n",
       "\n",
       "[144 rows x 6 columns]"
      ]
     },
     "execution_count": 59,
     "metadata": {},
     "output_type": "execute_result"
    }
   ],
   "source": [
    "annee_naissance = 1991\n",
    "raw_data[col_list][raw_data.ANNEEDEPLANTATION == annee_naissance]\n",
    "#raw_data['ANNEEDEPLANTAION'].value_counts()[annee_naissance]"
   ]
  },
  {
   "cell_type": "code",
   "execution_count": 61,
   "metadata": {},
   "outputs": [
    {
     "name": "stdout",
     "output_type": "stream",
     "text": [
      "13393 arbres ont été plantés depuis ma naissance.\n"
     ]
    }
   ],
   "source": [
    "df = raw_data[col_list][raw_data.ANNEEDEPLANTATION > annee_naissance]\n",
    "print(f'{df.ELEM_POINT_ID.count()} arbres ont été plantés depuis ma naissance.')"
   ]
  },
  {
   "cell_type": "code",
   "execution_count": 62,
   "metadata": {},
   "outputs": [],
   "source": [
    "maire_mandat = [\n",
    "    {'nom':'Mistral', 'deb':1919, 'fin':1932},\n",
    "    {'nom':'Martin', 'deb':1932, 'fin':1935},\n",
    "    {'nom':'Cocat', 'deb':1932, 'fin':1944},\n",
    "    {'nom':'Lafleur', 'deb':1944, 'fin':1945},\n",
    "    {'nom':'Martin', 'deb':1945, 'fin':1947},\n",
    "    {'nom':'Bally', 'deb':1947, 'fin':1948},\n",
    "    {'nom':'Perinetti', 'deb':1948, 'fin':1949},\n",
    "    {'nom':'Martin', 'deb':1949, 'fin':1959},\n",
    "    {'nom':'Michallon', 'deb':1959, 'fin':1965},\n",
    "    {'nom':'Dubedout', 'deb':1965, 'fin':1983},\n",
    "    {'nom':'Carignon', 'deb':1983, 'fin':1995},\n",
    "    {'nom':'Destot', 'deb':1995, 'fin':2014},\n",
    "    {'nom':'Piolle', 'deb':2014, 'fin':2020}\n",
    "    ] # liste des maires de Grenoble depuis 1919 avec les années de début et de fin de mandat"
   ]
  },
  {
   "cell_type": "code",
   "execution_count": 74,
   "metadata": {},
   "outputs": [],
   "source": [
    "annee_maire = pd.DataFrame(columns=['ANNEE','MAIRE'])\n",
    "for dic in maire_mandat :\n",
    "    for ann in range(dic['deb'],dic['fin']) :\n",
    "        annee_maire = annee_maire.append({'ANNEE':ann, 'MAIRE':dic['nom']},ignore_index=True)"
   ]
  },
  {
   "cell_type": "code",
   "execution_count": 75,
   "metadata": {},
   "outputs": [
    {
     "data": {
      "text/html": [
       "<div>\n",
       "<style scoped>\n",
       "    .dataframe tbody tr th:only-of-type {\n",
       "        vertical-align: middle;\n",
       "    }\n",
       "\n",
       "    .dataframe tbody tr th {\n",
       "        vertical-align: top;\n",
       "    }\n",
       "\n",
       "    .dataframe thead th {\n",
       "        text-align: right;\n",
       "    }\n",
       "</style>\n",
       "<table border=\"1\" class=\"dataframe\">\n",
       "  <thead>\n",
       "    <tr style=\"text-align: right;\">\n",
       "      <th></th>\n",
       "      <th>ANNEE</th>\n",
       "      <th>MAIRE</th>\n",
       "    </tr>\n",
       "  </thead>\n",
       "  <tbody>\n",
       "    <tr>\n",
       "      <th>0</th>\n",
       "      <td>1919</td>\n",
       "      <td>Mistral</td>\n",
       "    </tr>\n",
       "    <tr>\n",
       "      <th>1</th>\n",
       "      <td>1920</td>\n",
       "      <td>Mistral</td>\n",
       "    </tr>\n",
       "    <tr>\n",
       "      <th>2</th>\n",
       "      <td>1921</td>\n",
       "      <td>Mistral</td>\n",
       "    </tr>\n",
       "    <tr>\n",
       "      <th>3</th>\n",
       "      <td>1922</td>\n",
       "      <td>Mistral</td>\n",
       "    </tr>\n",
       "    <tr>\n",
       "      <th>4</th>\n",
       "      <td>1923</td>\n",
       "      <td>Mistral</td>\n",
       "    </tr>\n",
       "    <tr>\n",
       "      <th>...</th>\n",
       "      <td>...</td>\n",
       "      <td>...</td>\n",
       "    </tr>\n",
       "    <tr>\n",
       "      <th>99</th>\n",
       "      <td>2015</td>\n",
       "      <td>Piolle</td>\n",
       "    </tr>\n",
       "    <tr>\n",
       "      <th>100</th>\n",
       "      <td>2016</td>\n",
       "      <td>Piolle</td>\n",
       "    </tr>\n",
       "    <tr>\n",
       "      <th>101</th>\n",
       "      <td>2017</td>\n",
       "      <td>Piolle</td>\n",
       "    </tr>\n",
       "    <tr>\n",
       "      <th>102</th>\n",
       "      <td>2018</td>\n",
       "      <td>Piolle</td>\n",
       "    </tr>\n",
       "    <tr>\n",
       "      <th>103</th>\n",
       "      <td>2019</td>\n",
       "      <td>Piolle</td>\n",
       "    </tr>\n",
       "  </tbody>\n",
       "</table>\n",
       "<p>104 rows × 2 columns</p>\n",
       "</div>"
      ],
      "text/plain": [
       "    ANNEE    MAIRE\n",
       "0    1919  Mistral\n",
       "1    1920  Mistral\n",
       "2    1921  Mistral\n",
       "3    1922  Mistral\n",
       "4    1923  Mistral\n",
       "..    ...      ...\n",
       "99   2015   Piolle\n",
       "100  2016   Piolle\n",
       "101  2017   Piolle\n",
       "102  2018   Piolle\n",
       "103  2019   Piolle\n",
       "\n",
       "[104 rows x 2 columns]"
      ]
     },
     "execution_count": 75,
     "metadata": {},
     "output_type": "execute_result"
    }
   ],
   "source": [
    "annee_maire"
   ]
  },
  {
   "cell_type": "code",
   "execution_count": 76,
   "metadata": {},
   "outputs": [
    {
     "data": {
      "text/plain": [
       "Dubedout     12466\n",
       "Destot        8882\n",
       "Carignon      4612\n",
       "Piolle        3871\n",
       "Michallon      732\n",
       "Martin         527\n",
       "Lafleur         27\n",
       "Mistral         12\n",
       "Name: MAIRE, dtype: int64"
      ]
     },
     "execution_count": 76,
     "metadata": {},
     "output_type": "execute_result"
    }
   ],
   "source": [
    "pd.merge(raw_data,annee_maire, left_on='ANNEEDEPLANTATION',right_on='ANNEE')['MAIRE'].value_counts()"
   ]
  },
  {
   "cell_type": "code",
   "execution_count": 175,
   "metadata": {},
   "outputs": [
    {
     "data": {
      "text/plain": [
       "<matplotlib.axes._subplots.AxesSubplot at 0xa68c5eec>"
      ]
     },
     "execution_count": 175,
     "metadata": {},
     "output_type": "execute_result"
    },
    {
     "data": {
      "image/png": "[encoded data removed]",
      "text/plain": [
       "<Figure size 432x288 with 1 Axes>"
      ]
     },
     "metadata": {
      "needs_background": "light"
     },
     "output_type": "display_data"
    }
   ],
   "source": [
    "raw_data['ANNEEDEPLANTATION'].hist(bins=30)"
   ]
  },
  {
   "cell_type": "code",
   "execution_count": 87,
   "metadata": {},
   "outputs": [
    {
     "data": {
      "text/plain": [
       "438"
      ]
     },
     "execution_count": 87,
     "metadata": {},
     "output_type": "execute_result"
    }
   ],
   "source": [
    "raw_data['GENRE_BOTA'].isna().sum()"
   ]
  },
  {
   "cell_type": "markdown",
   "metadata": {},
   "source": [
    "Comparaison avec le fichier corrompu"
   ]
  },
  {
   "cell_type": "code",
   "execution_count": 112,
   "metadata": {},
   "outputs": [
    {
     "name": "stderr",
     "output_type": "stream",
     "text": [
      "/home/elie/anaconda/envs/arbre/lib/python3.7/site-packages/IPython/core/interactiveshell.py:3020: DtypeWarning: Columns (19) have mixed types.Specify dtype option on import or set low_memory=False.\n",
      "  interactivity=interactivity, compiler=compiler, result=result)\n"
     ]
    }
   ],
   "source": [
    "data_path3 = Path.cwd().parent / 'data/ESP_PUBLIC.IDENTITE_ARBRE_CORRPUTED.csv'\n",
    "cor_data = pd.read_csv(data_path3)"
   ]
  },
  {
   "cell_type": "code",
   "execution_count": 189,
   "metadata": {},
   "outputs": [
    {
     "name": "stdout",
     "output_type": "stream",
     "text": [
      "       ELEM_POINT_ID   CODE    NOM  GENRE  GENRE_DESC  CATEGORIE  \\\n",
      "0              False  False  False  False       False      False   \n",
      "1              False  False  False  False       False      False   \n",
      "2              False  False  False  False       False      False   \n",
      "3              False  False  False  False       False      False   \n",
      "4              False  False  False  False       False      False   \n",
      "...              ...    ...    ...    ...         ...        ...   \n",
      "31887          False  False  False  False       False      False   \n",
      "31888          False  False  False  False       False      False   \n",
      "31889          False  False  False  False       False      False   \n",
      "31890          False  False  False  False       False      False   \n",
      "31891          False  False  False  False       False      False   \n",
      "\n",
      "       CATEGORIE_DESC  SOUS_CATEGORIE  SOUS_CATEGORIE_DESC  CODE_PARENT  ...  \\\n",
      "0               False           False                False        False  ...   \n",
      "1               False           False                False        False  ...   \n",
      "2               False           False                False        False  ...   \n",
      "3               False           False                False        False  ...   \n",
      "4               False           False                False        False  ...   \n",
      "...               ...             ...                  ...          ...  ...   \n",
      "31887           False           False                False        False  ...   \n",
      "31888           False           False                False        False  ...   \n",
      "31889           False           False                False        False  ...   \n",
      "31890           False           False                False        False  ...   \n",
      "31891           False           False                False        False  ...   \n",
      "\n",
      "       COURRIER  IDENTIFIANTPLU  TYPEIMPLANTATIONPLU  INTITULEPROTECTIONPLU  \\\n",
      "0          True            True                 True                   True   \n",
      "1          True            True                 True                   True   \n",
      "2          True            True                 True                   True   \n",
      "3          True            True                 True                   True   \n",
      "4          True            True                 True                   True   \n",
      "...         ...             ...                  ...                    ...   \n",
      "31887      True            True                 True                   True   \n",
      "31888      True            True                 True                   True   \n",
      "31889      True            True                 True                   True   \n",
      "31890      True            True                 True                   True   \n",
      "31891      True            True                 True                   True   \n",
      "\n",
      "       ANNEEABATTAGE  ESSOUCHEMENT  DIAMETREARBRE  CAUSEABATTAGE  \\\n",
      "0               True          True           True           True   \n",
      "1               True          True           True           True   \n",
      "2               True          True           True           True   \n",
      "3               True          True           True           True   \n",
      "4               True          True           True           True   \n",
      "...              ...           ...            ...            ...   \n",
      "31887           True          True           True           True   \n",
      "31888           True          True           True           True   \n",
      "31889           True          True           True           True   \n",
      "31890           True          True           True           True   \n",
      "31891           True          True           True           True   \n",
      "\n",
      "       COLLECTIVITE  GeoJSON  \n",
      "0             False    False  \n",
      "1             False    False  \n",
      "2             False    False  \n",
      "3             False    False  \n",
      "4             False    False  \n",
      "...             ...      ...  \n",
      "31887         False    False  \n",
      "31888         False    False  \n",
      "31889         False    False  \n",
      "31890         False    False  \n",
      "31891         False    False  \n",
      "\n",
      "[31892 rows x 32 columns]\n",
      "ELEM_POINT_ID            True\n",
      "CODE                     True\n",
      "NOM                      True\n",
      "GENRE                    True\n",
      "GENRE_DESC               True\n",
      "CATEGORIE                True\n",
      "CATEGORIE_DESC           True\n",
      "SOUS_CATEGORIE           True\n",
      "SOUS_CATEGORIE_DESC      True\n",
      "CODE_PARENT              True\n",
      "CODE_PARENT_DESC         True\n",
      "ADR_SECTEUR              True\n",
      "BIEN_REFERENCE           True\n",
      "GENRE_BOTA               True\n",
      "ESPECE                   True\n",
      "VARIETE                  True\n",
      "STADEDEDEVELOPPEMENT     True\n",
      "EQUIPE                   True\n",
      "REMARQUES                True\n",
      "ANNEEDEPLANTATION        True\n",
      "RAISONDEPLANTATION       True\n",
      "TRAITEMENTCHENILLES      True\n",
      "COURRIER                 True\n",
      "IDENTIFIANTPLU           True\n",
      "TYPEIMPLANTATIONPLU      True\n",
      "INTITULEPROTECTIONPLU    True\n",
      "ANNEEABATTAGE            True\n",
      "ESSOUCHEMENT             True\n",
      "DIAMETREARBRE            True\n",
      "CAUSEABATTAGE            True\n",
      "COLLECTIVITE             True\n",
      "GeoJSON                  True\n",
      "dtype: bool\n"
     ]
    }
   ],
   "source": [
    "true_data = cor_data.copy()\n",
    "mask = cor_data != raw_data\n",
    "mask2 = cor_data.eq(raw_data)\n",
    "print(mask)\n",
    "print((mask == ~mask2).all())"
   ]
  },
  {
   "cell_type": "code",
   "execution_count": 156,
   "metadata": {},
   "outputs": [
    {
     "data": {
      "text/plain": [
       "ELEM_POINT_ID             True\n",
       "CODE                      True\n",
       "NOM                       True\n",
       "GENRE                     True\n",
       "GENRE_DESC                True\n",
       "CATEGORIE                 True\n",
       "CATEGORIE_DESC            True\n",
       "SOUS_CATEGORIE            True\n",
       "SOUS_CATEGORIE_DESC       True\n",
       "CODE_PARENT               True\n",
       "CODE_PARENT_DESC          True\n",
       "ADR_SECTEUR               True\n",
       "BIEN_REFERENCE            True\n",
       "GENRE_BOTA                True\n",
       "ESPECE                    True\n",
       "VARIETE                   True\n",
       "STADEDEDEVELOPPEMENT      True\n",
       "EQUIPE                    True\n",
       "REMARQUES                 True\n",
       "ANNEEDEPLANTATION        False\n",
       "RAISONDEPLANTATION        True\n",
       "TRAITEMENTCHENILLES       True\n",
       "COURRIER                  True\n",
       "IDENTIFIANTPLU            True\n",
       "TYPEIMPLANTATIONPLU       True\n",
       "INTITULEPROTECTIONPLU     True\n",
       "ANNEEABATTAGE             True\n",
       "ESSOUCHEMENT              True\n",
       "DIAMETREARBRE             True\n",
       "CAUSEABATTAGE             True\n",
       "COLLECTIVITE              True\n",
       "GeoJSON                   True\n",
       "dtype: bool"
      ]
     },
     "execution_count": 156,
     "metadata": {},
     "output_type": "execute_result"
    }
   ],
   "source": [
    "raw_data.dtypes == cor_data.dtypes"
   ]
  },
  {
   "cell_type": "code",
   "execution_count": 193,
   "metadata": {},
   "outputs": [
    {
     "name": "stdout",
     "output_type": "stream",
     "text": [
      "ELEM_POINT_ID            True\n",
      "CODE                     True\n",
      "NOM                      True\n",
      "GENRE                    True\n",
      "GENRE_DESC               True\n",
      "CATEGORIE                True\n",
      "CATEGORIE_DESC           True\n",
      "SOUS_CATEGORIE           True\n",
      "SOUS_CATEGORIE_DESC      True\n",
      "CODE_PARENT              True\n",
      "CODE_PARENT_DESC         True\n",
      "ADR_SECTEUR              True\n",
      "BIEN_REFERENCE           True\n",
      "GENRE_BOTA               True\n",
      "ESPECE                   True\n",
      "VARIETE                  True\n",
      "STADEDEDEVELOPPEMENT     True\n",
      "EQUIPE                   True\n",
      "REMARQUES                True\n",
      "ANNEEDEPLANTATION        True\n",
      "RAISONDEPLANTATION       True\n",
      "TRAITEMENTCHENILLES      True\n",
      "COURRIER                 True\n",
      "IDENTIFIANTPLU           True\n",
      "TYPEIMPLANTATIONPLU      True\n",
      "INTITULEPROTECTIONPLU    True\n",
      "ANNEEABATTAGE            True\n",
      "ESSOUCHEMENT             True\n",
      "DIAMETREARBRE            True\n",
      "CAUSEABATTAGE            True\n",
      "COLLECTIVITE             True\n",
      "GeoJSON                  True\n",
      "dtype: bool\n"
     ]
    },
    {
     "ename": "TypeError",
     "evalue": "Cannot do inplace boolean setting on mixed-types with a non np.nan value",
     "output_type": "error",
     "traceback": [
      "\u001b[0;31m---------------------------------------------------------------------------\u001b[0m",
      "\u001b[0;31mTypeError\u001b[0m                                 Traceback (most recent call last)",
      "\u001b[0;32m<ipython-input-193-3071cb2fea59>\u001b[0m in \u001b[0;36m<module>\u001b[0;34m\u001b[0m\n\u001b[1;32m      3\u001b[0m \u001b[0mtrue_data\u001b[0m \u001b[0;34m=\u001b[0m \u001b[0mtrue_data\u001b[0m\u001b[0;34m.\u001b[0m\u001b[0mastype\u001b[0m\u001b[0;34m(\u001b[0m\u001b[0mraw_data\u001b[0m\u001b[0;34m.\u001b[0m\u001b[0mdtypes\u001b[0m\u001b[0;34m)\u001b[0m\u001b[0;34m\u001b[0m\u001b[0;34m\u001b[0m\u001b[0m\n\u001b[1;32m      4\u001b[0m \u001b[0mprint\u001b[0m\u001b[0;34m(\u001b[0m\u001b[0mtrue_data\u001b[0m\u001b[0;34m.\u001b[0m\u001b[0mdtypes\u001b[0m \u001b[0;34m==\u001b[0m \u001b[0mraw_data\u001b[0m\u001b[0;34m.\u001b[0m\u001b[0mdtypes\u001b[0m\u001b[0;34m)\u001b[0m\u001b[0;34m\u001b[0m\u001b[0;34m\u001b[0m\u001b[0m\n\u001b[0;32m----> 5\u001b[0;31m \u001b[0mtrue_data\u001b[0m\u001b[0;34m[\u001b[0m\u001b[0mmask\u001b[0m\u001b[0;34m]\u001b[0m \u001b[0;34m=\u001b[0m \u001b[0mraw_data\u001b[0m\u001b[0;34m[\u001b[0m\u001b[0mmask\u001b[0m\u001b[0;34m]\u001b[0m\u001b[0;34m\u001b[0m\u001b[0;34m\u001b[0m\u001b[0m\n\u001b[0m\u001b[1;32m      6\u001b[0m \u001b[0;34m\u001b[0m\u001b[0m\n\u001b[1;32m      7\u001b[0m \u001b[0mtrue_data\u001b[0m\u001b[0;34m[\u001b[0m\u001b[0mmask\u001b[0m\u001b[0;34m]\u001b[0m \u001b[0;34m=\u001b[0m \u001b[0mnp\u001b[0m\u001b[0;34m.\u001b[0m\u001b[0mnan\u001b[0m \u001b[0;31m#raw_data[mask]\u001b[0m\u001b[0;34m\u001b[0m\u001b[0;34m\u001b[0m\u001b[0m\n",
      "\u001b[0;32m~/anaconda/envs/arbre/lib/python3.7/site-packages/pandas/core/frame.py\u001b[0m in \u001b[0;36m__setitem__\u001b[0;34m(self, key, value)\u001b[0m\n\u001b[1;32m   3033\u001b[0m \u001b[0;34m\u001b[0m\u001b[0m\n\u001b[1;32m   3034\u001b[0m         \u001b[0;32mif\u001b[0m \u001b[0misinstance\u001b[0m\u001b[0;34m(\u001b[0m\u001b[0mkey\u001b[0m\u001b[0;34m,\u001b[0m \u001b[0mDataFrame\u001b[0m\u001b[0;34m)\u001b[0m \u001b[0;32mor\u001b[0m \u001b[0mgetattr\u001b[0m\u001b[0;34m(\u001b[0m\u001b[0mkey\u001b[0m\u001b[0;34m,\u001b[0m \u001b[0;34m\"ndim\"\u001b[0m\u001b[0;34m,\u001b[0m \u001b[0;32mNone\u001b[0m\u001b[0;34m)\u001b[0m \u001b[0;34m==\u001b[0m \u001b[0;36m2\u001b[0m\u001b[0;34m:\u001b[0m\u001b[0;34m\u001b[0m\u001b[0;34m\u001b[0m\u001b[0m\n\u001b[0;32m-> 3035\u001b[0;31m             \u001b[0mself\u001b[0m\u001b[0;34m.\u001b[0m\u001b[0m_setitem_frame\u001b[0m\u001b[0;34m(\u001b[0m\u001b[0mkey\u001b[0m\u001b[0;34m,\u001b[0m \u001b[0mvalue\u001b[0m\u001b[0;34m)\u001b[0m\u001b[0;34m\u001b[0m\u001b[0;34m\u001b[0m\u001b[0m\n\u001b[0m\u001b[1;32m   3036\u001b[0m         \u001b[0;32melif\u001b[0m \u001b[0misinstance\u001b[0m\u001b[0;34m(\u001b[0m\u001b[0mkey\u001b[0m\u001b[0;34m,\u001b[0m \u001b[0;34m(\u001b[0m\u001b[0mSeries\u001b[0m\u001b[0;34m,\u001b[0m \u001b[0mnp\u001b[0m\u001b[0;34m.\u001b[0m\u001b[0mndarray\u001b[0m\u001b[0;34m,\u001b[0m \u001b[0mlist\u001b[0m\u001b[0;34m,\u001b[0m \u001b[0mIndex\u001b[0m\u001b[0;34m)\u001b[0m\u001b[0;34m)\u001b[0m\u001b[0;34m:\u001b[0m\u001b[0;34m\u001b[0m\u001b[0;34m\u001b[0m\u001b[0m\n\u001b[1;32m   3037\u001b[0m             \u001b[0mself\u001b[0m\u001b[0;34m.\u001b[0m\u001b[0m_setitem_array\u001b[0m\u001b[0;34m(\u001b[0m\u001b[0mkey\u001b[0m\u001b[0;34m,\u001b[0m \u001b[0mvalue\u001b[0m\u001b[0;34m)\u001b[0m\u001b[0;34m\u001b[0m\u001b[0;34m\u001b[0m\u001b[0m\n",
      "\u001b[0;32m~/anaconda/envs/arbre/lib/python3.7/site-packages/pandas/core/frame.py\u001b[0m in \u001b[0;36m_setitem_frame\u001b[0;34m(self, key, value)\u001b[0m\n\u001b[1;32m   3085\u001b[0m             )\n\u001b[1;32m   3086\u001b[0m \u001b[0;34m\u001b[0m\u001b[0m\n\u001b[0;32m-> 3087\u001b[0;31m         \u001b[0mself\u001b[0m\u001b[0;34m.\u001b[0m\u001b[0m_check_inplace_setting\u001b[0m\u001b[0;34m(\u001b[0m\u001b[0mvalue\u001b[0m\u001b[0;34m)\u001b[0m\u001b[0;34m\u001b[0m\u001b[0;34m\u001b[0m\u001b[0m\n\u001b[0m\u001b[1;32m   3088\u001b[0m         \u001b[0mself\u001b[0m\u001b[0;34m.\u001b[0m\u001b[0m_check_setitem_copy\u001b[0m\u001b[0;34m(\u001b[0m\u001b[0;34m)\u001b[0m\u001b[0;34m\u001b[0m\u001b[0;34m\u001b[0m\u001b[0m\n\u001b[1;32m   3089\u001b[0m         \u001b[0mself\u001b[0m\u001b[0;34m.\u001b[0m\u001b[0m_where\u001b[0m\u001b[0;34m(\u001b[0m\u001b[0;34m-\u001b[0m\u001b[0mkey\u001b[0m\u001b[0;34m,\u001b[0m \u001b[0mvalue\u001b[0m\u001b[0;34m,\u001b[0m \u001b[0minplace\u001b[0m\u001b[0;34m=\u001b[0m\u001b[0;32mTrue\u001b[0m\u001b[0;34m)\u001b[0m\u001b[0;34m\u001b[0m\u001b[0;34m\u001b[0m\u001b[0m\n",
      "\u001b[0;32m~/anaconda/envs/arbre/lib/python3.7/site-packages/pandas/core/generic.py\u001b[0m in \u001b[0;36m_check_inplace_setting\u001b[0;34m(self, value)\u001b[0m\n\u001b[1;32m   5251\u001b[0m \u001b[0;34m\u001b[0m\u001b[0m\n\u001b[1;32m   5252\u001b[0m                 raise TypeError(\n\u001b[0;32m-> 5253\u001b[0;31m                     \u001b[0;34m\"Cannot do inplace boolean setting on \"\u001b[0m\u001b[0;34m\u001b[0m\u001b[0;34m\u001b[0m\u001b[0m\n\u001b[0m\u001b[1;32m   5254\u001b[0m                     \u001b[0;34m\"mixed-types with a non np.nan value\"\u001b[0m\u001b[0;34m\u001b[0m\u001b[0;34m\u001b[0m\u001b[0m\n\u001b[1;32m   5255\u001b[0m                 )\n",
      "\u001b[0;31mTypeError\u001b[0m: Cannot do inplace boolean setting on mixed-types with a non np.nan value"
     ]
    }
   ],
   "source": [
    "#Ma solution mais qui semble ne pas fonctionner\n",
    "true_data[mask] = np.nan\n",
    "true_data = true_data.astype(raw_data.dtypes)\n",
    "print(true_data.dtypes == raw_data.dtypes)\n",
    "true_data[mask] = raw_data[mask]\n",
    "\n",
    "#true_data = true_data.astype(raw_data.dtypes,errors='ignore')\n",
    "#true_data = true_data.astype(raw_data.dtypes)\n",
    "#true_data.convert_dtypes().dtypes\n",
    "#combine_first"
   ]
  },
  {
   "cell_type": "code",
   "execution_count": null,
   "metadata": {},
   "outputs": [],
   "source": [
    "#La solution de Gaétan\n",
    "true_data[mask] = np.nan #raw_data[mask]\n",
    "true_data = true_data.astype(raw_data.dtypes)\n",
    "print(true_data.dtypes == raw_data.dtypes)\n",
    "true_data = true_data.combine_first(raw_data)"
   ]
  },
  {
   "cell_type": "code",
   "execution_count": 187,
   "metadata": {},
   "outputs": [
    {
     "data": {
      "text/plain": [
       "ELEM_POINT_ID            True\n",
       "CODE                     True\n",
       "NOM                      True\n",
       "GENRE                    True\n",
       "GENRE_DESC               True\n",
       "CATEGORIE                True\n",
       "CATEGORIE_DESC           True\n",
       "SOUS_CATEGORIE           True\n",
       "SOUS_CATEGORIE_DESC      True\n",
       "CODE_PARENT              True\n",
       "CODE_PARENT_DESC         True\n",
       "ADR_SECTEUR              True\n",
       "BIEN_REFERENCE           True\n",
       "GENRE_BOTA               True\n",
       "ESPECE                   True\n",
       "VARIETE                  True\n",
       "STADEDEDEVELOPPEMENT     True\n",
       "EQUIPE                   True\n",
       "REMARQUES                True\n",
       "ANNEEDEPLANTATION        True\n",
       "RAISONDEPLANTATION       True\n",
       "TRAITEMENTCHENILLES      True\n",
       "COURRIER                 True\n",
       "IDENTIFIANTPLU           True\n",
       "TYPEIMPLANTATIONPLU      True\n",
       "INTITULEPROTECTIONPLU    True\n",
       "ANNEEABATTAGE            True\n",
       "ESSOUCHEMENT             True\n",
       "DIAMETREARBRE            True\n",
       "CAUSEABATTAGE            True\n",
       "COLLECTIVITE             True\n",
       "GeoJSON                  True\n",
       "dtype: bool"
      ]
     },
     "execution_count": 187,
     "metadata": {},
     "output_type": "execute_result"
    }
   ],
   "source": [
    "true_data.dtypes == raw_data.dtypes"
   ]
  },
  {
   "cell_type": "code",
   "execution_count": 185,
   "metadata": {},
   "outputs": [],
   "source": [
    "true_data[mask] = np.nan #raw_data[mask]"
   ]
  },
  {
   "cell_type": "code",
   "execution_count": 151,
   "metadata": {},
   "outputs": [
    {
     "name": "stdout",
     "output_type": "stream",
     "text": [
      "       A      B      C\n",
      "0  False  False   True\n",
      "1  False   True  False\n",
      "2  False  False  False\n",
      "    A    B    C\n",
      "0 NaN  NaN  7.0\n",
      "1 NaN  5.0  NaN\n",
      "2 NaN  NaN  NaN\n",
      "   A  B  C\n",
      "0  1  4  7\n",
      "1  2  5  8\n",
      "2  3  6  9\n"
     ]
    }
   ],
   "source": [
    "df1 = pd.DataFrame({'A':[1,2,3], 'B':[4,5,6], 'C':[7,8,9]})\n",
    "df2 = pd.DataFrame({'A':[1,2,3], 'B':[4,0,6], 'C':[0,8,9]})\n",
    "msk = df1!=df2\n",
    "print(msk)\n",
    "print(df1[msk])\n",
    "df2[msk] = df1[msk]\n",
    "print(df2)"
   ]
  },
  {
   "cell_type": "markdown",
   "metadata": {},
   "source": [
    "## Retour sur l'activité 2"
   ]
  },
  {
   "cell_type": "code",
   "execution_count": 102,
   "metadata": {},
   "outputs": [
    {
     "name": "stdout",
     "output_type": "stream",
     "text": [
      "['Acer' 'Fraxinus' 'Carpinus' 'Alnus' 'Robinia' 'Populus' 'Ulmus' 'Pinus'\n",
      " 'Sambucus' 'Salix' 'Picea' 'Tilia' 'Quercus' 'Prunus' 'Platanus'\n",
      " 'Liquidambar' 'Koelreuteria' 'Gleditsia' 'Cupressus' 'Thuja' 'Betula'\n",
      " 'Halesia' 'Crataegus' 'Cedrus' 'Morus' 'Aesculus' 'Liriodendron' 'Ptelea'\n",
      " nan 'Celtis' 'Chionanthus' 'Paulownia' 'Pistacia' 'Tetradium' 'Pyrus'\n",
      " 'Cotinus' 'Zelkova' 'Parrotia' 'Sophora' 'Fagus' 'Mespilus'\n",
      " 'Phellodendron' 'Malus' 'Amélanchier' 'Taxodium' 'Ilex' 'Taxus' 'Cercis'\n",
      " 'Pterocarya' 'Diospyros' 'Catalpa' 'Chamaecyparis' 'Rhus' 'Cedrela'\n",
      " 'Gymnocladus' 'Corylus' 'Pteroceltis' 'Magnolia' 'Sequoia'\n",
      " 'Cupressocyparis' 'Metasequoia' 'Albizia' 'Sequoiadendron' 'Sorbus'\n",
      " 'Cephalotaxus' 'Lagerstroemia' 'Ostrya' 'Buxus' 'Cercidiphyllum'\n",
      " 'Maclura' 'Chitalpa' 'Juniperus' 'Sorbopyrus' 'Juglans' 'Poncinos'\n",
      " 'Davidia' 'Ginkgo' 'Libocedrus' 'Abies' 'Sciadopitys' 'Cladastris'\n",
      " 'Broussonetia' 'Calocedrus' 'Ficus' 'Punica' 'Castanea' 'Cornus'\n",
      " 'Cydonia' 'Idesia' 'Laurus' 'Euodia' 'Hovenia' 'Syringa' 'Eleagnus'\n",
      " 'Ailanthus' 'Rhamnus' 'Chimonanthus' 'Photinia' 'Sterculia' 'Phillyrea'\n",
      " 'Olea' 'Fontanesia' 'Pterostyrax' 'Trachycarpus' 'Ligustrum' 'Acacia'\n",
      " 'Laburnum' 'Araucaria' 'Hibiscus' 'Styrax' 'Eucalyptus' 'Carya'\n",
      " 'Staphylea' 'Eriobotrya ' 'Larix' 'Clerodendron' 'Cryptomeria'\n",
      " 'Pseudotsuga' 'Nyssa' 'Lonicera']\n",
      "Il y a 120 genres botaniques de représentés.\n"
     ]
    }
   ],
   "source": [
    "print(raw_data['GENRE_BOTA'].unique())\n",
    "print(f\"Il y a {len(raw_data['GENRE_BOTA'].unique())} genres botaniques de représentés.\")\n",
    "df_genre = raw_data.groupby(['GENRE_BOTA']).count()"
   ]
  },
  {
   "cell_type": "code",
   "execution_count": 101,
   "metadata": {},
   "outputs": [
    {
     "name": "stdout",
     "output_type": "stream",
     "text": [
      "MultiIndex([(  'Abies',          'alba'),\n",
      "            (  'Abies',      'concolor'),\n",
      "            (  'Abies',       'koreana'),\n",
      "            (  'Abies',  'nordmanniana'),\n",
      "            (  'Abies',       'pinsapo'),\n",
      "            ( 'Acacia',      'dealbata'),\n",
      "            (   'Acer',  'buergerianum'),\n",
      "            (   'Acer',     'campestre'),\n",
      "            (   'Acer',  'cappadocicum'),\n",
      "            (   'Acer', 'carpinifolium'),\n",
      "            ...\n",
      "            (  'Ulmus',     'campestre'),\n",
      "            (  'Ulmus',    'campestris'),\n",
      "            (  'Ulmus',  'carpinifolia'),\n",
      "            (  'Ulmus',        'glabra'),\n",
      "            (  'Ulmus',        'laevis'),\n",
      "            (  'Ulmus',         'minor'),\n",
      "            (  'Ulmus',    'parvifolia'),\n",
      "            (  'Ulmus',       'resista'),\n",
      "            ('Zelkova',       'crenata'),\n",
      "            ('Zelkova',       'serrata')],\n",
      "           names=['GENRE_BOTA', 'ESPECE'], length=339)\n",
      "Il y a 339 especes différentes.\n"
     ]
    }
   ],
   "source": [
    "df_espece = raw_data.groupby(['GENRE_BOTA','ESPECE']).count()\n",
    "print(df_espece.index)\n",
    "print(f\"Il y a {len(df_espece.index)} especes différentes.\")"
   ]
  },
  {
   "cell_type": "code",
   "execution_count": 106,
   "metadata": {},
   "outputs": [
    {
     "data": {
      "text/plain": [
       "ELEM_POINT_ID            1\n",
       "CODE                     1\n",
       "NOM                      1\n",
       "GENRE                    1\n",
       "GENRE_DESC               1\n",
       "CATEGORIE                1\n",
       "CATEGORIE_DESC           1\n",
       "SOUS_CATEGORIE           1\n",
       "SOUS_CATEGORIE_DESC      1\n",
       "CODE_PARENT              1\n",
       "CODE_PARENT_DESC         1\n",
       "ADR_SECTEUR              1\n",
       "BIEN_REFERENCE           1\n",
       "VARIETE                  0\n",
       "STADEDEDEVELOPPEMENT     1\n",
       "EQUIPE                   0\n",
       "REMARQUES                0\n",
       "ANNEEDEPLANTATION        1\n",
       "RAISONDEPLANTATION       0\n",
       "TRAITEMENTCHENILLES      0\n",
       "COURRIER                 0\n",
       "IDENTIFIANTPLU           0\n",
       "TYPEIMPLANTATIONPLU      0\n",
       "INTITULEPROTECTIONPLU    0\n",
       "ANNEEABATTAGE            0\n",
       "ESSOUCHEMENT             0\n",
       "DIAMETREARBRE            0\n",
       "CAUSEABATTAGE            0\n",
       "COLLECTIVITE             1\n",
       "GeoJSON                  1\n",
       "Name: (Ulmus, campestre), dtype: int64"
      ]
     },
     "execution_count": 106,
     "metadata": {},
     "output_type": "execute_result"
    }
   ],
   "source": [
    "df_espece.loc['Ulmus','campestre']"
   ]
  },
  {
   "cell_type": "code",
   "execution_count": 108,
   "metadata": {},
   "outputs": [
    {
     "data": {
      "text/plain": [
       "GENRE_BOTA\n",
       "Acer    5260\n",
       "Name: ELEM_POINT_ID, dtype: int64"
      ]
     },
     "execution_count": 108,
     "metadata": {},
     "output_type": "execute_result"
    }
   ],
   "source": [
    "df_genre['ELEM_POINT_ID'][df_genre['ELEM_POINT_ID']==df_genre['ELEM_POINT_ID'].max()]"
   ]
  },
  {
   "cell_type": "code",
   "execution_count": 109,
   "metadata": {},
   "outputs": [
    {
     "data": {
      "text/plain": [
       "GENRE_BOTA  ESPECE    \n",
       "Platanus    acerifolia    4008\n",
       "Name: ELEM_POINT_ID, dtype: int64"
      ]
     },
     "execution_count": 109,
     "metadata": {},
     "output_type": "execute_result"
    }
   ],
   "source": [
    "df_espece['ELEM_POINT_ID'][df_espece['ELEM_POINT_ID']==df_espece['ELEM_POINT_ID'].max()]"
   ]
  },
  {
   "cell_type": "code",
   "execution_count": 110,
   "metadata": {},
   "outputs": [
    {
     "data": {
      "text/plain": [
       "GENRE_BOTA\n",
       "Acacia         1\n",
       "Castanea       1\n",
       "Eucalyptus     1\n",
       "Laurus         1\n",
       "Nyssa          1\n",
       "Poncinos       1\n",
       "Pseudotsuga    1\n",
       "Rhamnus        1\n",
       "Sciadopitys    1\n",
       "Sorbopyrus     1\n",
       "Staphylea      1\n",
       "Sterculia      1\n",
       "Name: ELEM_POINT_ID, dtype: int64"
      ]
     },
     "execution_count": 110,
     "metadata": {},
     "output_type": "execute_result"
    }
   ],
   "source": [
    "df_genre['ELEM_POINT_ID'][df_genre['ELEM_POINT_ID']==1]"
   ]
  },
  {
   "cell_type": "code",
   "execution_count": 111,
   "metadata": {},
   "outputs": [
    {
     "data": {
      "text/plain": [
       "GENRE_BOTA      ESPECE        \n",
       "Abies           alba              1\n",
       "                koreana           1\n",
       "Acacia          dealbata          1\n",
       "Acer            hippocastanum     1\n",
       "                macrophyllum      1\n",
       "                opalus            1\n",
       "                zoeschense        1\n",
       "Castanea        sativa            1\n",
       "Cedrela         sinense           1\n",
       "Celtis          orientalis        1\n",
       "Chamaecyparis   formosensis       1\n",
       "                pisifera          1\n",
       "Cladastris      kentukea          1\n",
       "Crataegus       prunifolia        1\n",
       "Cydonia         vulgaris          1\n",
       "Eucalyptus      gunii             1\n",
       "Fraxinus        quadrangulata     1\n",
       "Halesia         monticola         1\n",
       "Juniperus       drupacea          1\n",
       "                virginiana        1\n",
       "Laurus          nobilis           1\n",
       "Magnolia        heptapeta         1\n",
       "                liliflora         1\n",
       "Malus           avium             1\n",
       "                cerasifera        1\n",
       "                denboerii         1\n",
       "                excelsior         1\n",
       "                ioenis            1\n",
       "Nyssa           sylvatica         1\n",
       "Pinus           griffithii        1\n",
       "                mugo              1\n",
       "                parviflora        1\n",
       "                strobus           1\n",
       "                verrucosa         1\n",
       "Prunus          aquifolium        1\n",
       "                mahaleb           1\n",
       "                tomentosa         1\n",
       "Pseudotsuga     menziesii         1\n",
       "Pyrus           bignonoides       1\n",
       "                elaeagnifolia     1\n",
       "Quercus         fraxinifolia      1\n",
       "                heterophylla      1\n",
       "                libani            1\n",
       "                macrocarpa        1\n",
       "                macrolepis        1\n",
       "                salicifolia       1\n",
       "Rhamnus         alaternus         1\n",
       "Sciadopitys     verticillata      1\n",
       "Sequoiadendron  sempervirens      1\n",
       "Sorbopyrus      auricularis       1\n",
       "Sorbus          chamaemespilus    1\n",
       "Staphylea       bumalda           1\n",
       "Sterculia       foetida           1\n",
       "Ulmus           campestre         1\n",
       "Name: ELEM_POINT_ID, dtype: int64"
      ]
     },
     "execution_count": 111,
     "metadata": {},
     "output_type": "execute_result"
    }
   ],
   "source": [
    "df_espece['ELEM_POINT_ID'][df_espece['ELEM_POINT_ID']==1]"
   ]
  },
  {
   "cell_type": "markdown",
   "metadata": {},
   "source": [
    "La question sur la diversification est laissée à plus tard, je vais regarder la solution proposée hier."
   ]
  },
  {
   "cell_type": "code",
   "execution_count": null,
   "metadata": {},
   "outputs": [],
   "source": []
  }
 ],
 "metadata": {
  "kernelspec": {
   "display_name": "Python 3",
   "language": "python",
   "name": "python3"
  },
  "language_info": {
   "codemirror_mode": {
    "name": "ipython",
    "version": 3
   },
   "file_extension": ".py",
   "mimetype": "text/x-python",
   "name": "python",
   "nbconvert_exporter": "python",
   "pygments_lexer": "ipython3",
   "version": "3.7.1"
  }
 },
 "nbformat": 4,
 "nbformat_minor": 4
}
