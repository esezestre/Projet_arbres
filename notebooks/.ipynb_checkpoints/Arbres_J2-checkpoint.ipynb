{
 "cells": [
  {
   "cell_type": "markdown",
   "metadata": {},
   "source": [
    "# Projet arbres de Grenoble jour 2"
   ]
  },
  {
   "cell_type": "markdown",
   "metadata": {},
   "source": [
    "Travail sur les set, dict et un peu d'analyse de données."
   ]
  },
  {
   "cell_type": "code",
   "execution_count": 1,
   "metadata": {},
   "outputs": [],
   "source": [
    "# coding: utf-8\n",
    "\n",
    "import csv\n",
    "from pathlib import Path"
   ]
  },
  {
   "cell_type": "code",
   "execution_count": 3,
   "metadata": {},
   "outputs": [
    {
     "name": "stdout",
     "output_type": "stream",
     "text": [
      "True\n"
     ]
    }
   ],
   "source": [
    "data_path = Path.cwd().parent / 'data/ESP_PUBLIC.IDENTITE_ARBRE.csv'\n",
    "print(data_path.exists())"
   ]
  },
  {
   "cell_type": "code",
   "execution_count": 6,
   "metadata": {},
   "outputs": [],
   "source": [
    "with open(data_path) as data_file :\n",
    "    dictReader = csv.DictReader(data_file)\n",
    "    data_dict = []\n",
    "    for row in dictReader :\n",
    "        data_dict.append(row)"
   ]
  },
  {
   "cell_type": "code",
   "execution_count": 9,
   "metadata": {},
   "outputs": [
    {
     "data": {
      "text/plain": [
       "odict_keys(['\\ufeffELEM_POINT_ID', 'CODE', 'NOM', 'GENRE', 'GENRE_DESC', 'CATEGORIE', 'CATEGORIE_DESC', 'SOUS_CATEGORIE', 'SOUS_CATEGORIE_DESC', 'CODE_PARENT', 'CODE_PARENT_DESC', 'ADR_SECTEUR', 'BIEN_REFERENCE', 'GENRE_BOTA', 'ESPECE', 'VARIETE', 'STADEDEDEVELOPPEMENT', 'EQUIPE', 'REMARQUES', 'ANNEEDEPLANTATION', 'RAISONDEPLANTATION', 'TRAITEMENTCHENILLES', 'COURRIER', 'IDENTIFIANTPLU', 'TYPEIMPLANTATIONPLU', 'INTITULEPROTECTIONPLU', 'ANNEEABATTAGE', 'ESSOUCHEMENT', 'DIAMETREARBRE', 'CAUSEABATTAGE', 'COLLECTIVITE', 'GeoJSON'])"
      ]
     },
     "execution_count": 9,
     "metadata": {},
     "output_type": "execute_result"
    }
   ],
   "source": [
    "data_dict[0].keys()"
   ]
  },
  {
   "cell_type": "markdown",
   "metadata": {},
   "source": [
    "Affichage des différents genres botaniques et mesure du temps nécessaire."
   ]
  },
  {
   "cell_type": "code",
   "execution_count": 18,
   "metadata": {},
   "outputs": [],
   "source": [
    "# %%timeit\n",
    "genres = [elem['GENRE_BOTA'] for elem in data_dict]\n",
    "genres = set(genres)"
   ]
  },
  {
   "cell_type": "code",
   "execution_count": 12,
   "metadata": {},
   "outputs": [
    {
     "name": "stdout",
     "output_type": "stream",
     "text": [
      "17.4 ms ± 551 µs per loop (mean ± std. dev. of 7 runs, 100 loops each)\n"
     ]
    }
   ],
   "source": [
    "%%timeit\n",
    "genres = []\n",
    "for elem in data_dict :\n",
    "    if elem['GENRE_BOTA'] not in genres :\n",
    "        genres.append(elem['GENRE_BOTA'])"
   ]
  },
  {
   "cell_type": "code",
   "execution_count": 14,
   "metadata": {},
   "outputs": [
    {
     "name": "stdout",
     "output_type": "stream",
     "text": [
      "20.1 ms ± 174 µs per loop (mean ± std. dev. of 7 runs, 100 loops each)\n"
     ]
    }
   ],
   "source": [
    "%%timeit\n",
    "genres = set()\n",
    "for elem in data_dict :\n",
    "    genres.add(elem['GENRE_BOTA'])"
   ]
  },
  {
   "cell_type": "code",
   "execution_count": 20,
   "metadata": {},
   "outputs": [
    {
     "name": "stdout",
     "output_type": "stream",
     "text": [
      "{'', 'Nyssa', 'Zelkova', 'Cephalotaxus', 'Phellodendron', 'Liriodendron', 'Photinia', 'Cupressocyparis', 'Aesculus', 'Ulmus', 'Fagus', 'Platanus', 'Malus', 'Clerodendron', 'Taxodium', 'Ptelea', 'Crataegus', 'Celtis', 'Juglans', 'Paulownia', 'Pterostyrax', 'Hibiscus', 'Pyrus', 'Syringa', 'Catalpa', 'Chitalpa', 'Fraxinus', 'Ficus', 'Calocedrus', 'Fontanesia', 'Larix', 'Pseudotsuga', 'Pteroceltis', 'Cupressus', 'Koelreuteria', 'Ginkgo', 'Carpinus', 'Sequoiadendron', 'Thuja', 'Sterculia', 'Corylus', 'Pterocarya', 'Buxus', 'Hovenia', 'Tilia', 'Sequoia', 'Acer', 'Lagerstroemia', 'Juniperus', 'Sorbopyrus', 'Robinia', 'Ilex', 'Taxus', 'Trachycarpus', 'Ostrya', 'Laburnum', 'Gleditsia', 'Cedrus', 'Euodia', 'Alnus', 'Punica', 'Sorbus', 'Laurus', 'Idesia', 'Phillyrea', 'Libocedrus', 'Chamaecyparis', 'Cladastris', 'Mespilus', 'Halesia', 'Castanea', 'Olea', 'Sciadopitys', 'Rhamnus', 'Ligustrum', 'Broussonetia', 'Cryptomeria', 'Acacia', 'Sambucus', 'Populus', 'Cercidiphyllum', 'Sophora', 'Prunus', 'Picea', 'Poncinos', 'Parrotia', 'Eucalyptus', 'Pistacia', 'Diospyros', 'Quercus', 'Cotinus', 'Amélanchier', 'Albizia', 'Maclura', 'Eriobotrya ', 'Morus', 'Cedrela', 'Araucaria', 'Metasequoia', 'Carya', 'Rhus', 'Abies', 'Styrax', 'Liquidambar', 'Tetradium', 'Staphylea', 'Salix', 'Betula', 'Cornus', 'Cercis', 'Davidia', 'Chionanthus', 'Cydonia', 'Lonicera', 'Eleagnus', 'Chimonanthus', 'Gymnocladus', 'Magnolia', 'Ailanthus', 'Pinus'}\n",
      "Il y a 120 genres botaniques représentés.\n"
     ]
    }
   ],
   "source": [
    "print(genres)\n",
    "print(f'Il y a {len(genres)} genres botaniques représentés.')"
   ]
  },
  {
   "cell_type": "markdown",
   "metadata": {},
   "source": [
    "Identification des espèces"
   ]
  },
  {
   "cell_type": "code",
   "execution_count": 25,
   "metadata": {},
   "outputs": [
    {
     "name": "stdout",
     "output_type": "stream",
     "text": [
      "Il y a 393 especes botaniques représentés.\n"
     ]
    }
   ],
   "source": [
    "especes = set() # especes va être un set de tuples ('genre', 'espece')\n",
    "for elem in data_dict :\n",
    "    especes.add((elem['GENRE_BOTA'], elem['ESPECE']))\n",
    "print(f'Il y a {len(especes)} especes botaniques représentés.')"
   ]
  },
  {
   "cell_type": "code",
   "execution_count": 26,
   "metadata": {},
   "outputs": [
    {
     "data": {
      "text/plain": [
       "True"
      ]
     },
     "execution_count": 26,
     "metadata": {},
     "output_type": "execute_result"
    }
   ],
   "source": [
    "('','') in especes"
   ]
  },
  {
   "cell_type": "markdown",
   "metadata": {},
   "source": [
    "Comptage du nombre de représentants dans chaque genre"
   ]
  },
  {
   "cell_type": "code",
   "execution_count": 35,
   "metadata": {},
   "outputs": [
    {
     "name": "stdout",
     "output_type": "stream",
     "text": [
      "31.1 ms ± 1.48 ms per loop (mean ± std. dev. of 7 runs, 10 loops each)\n"
     ]
    }
   ],
   "source": [
    "%%timeit\n",
    "pop_genre = {} # dictionnaire {'genre': nombre}\n",
    "for row in data_dict :\n",
    "    if row['GENRE_BOTA'] in pop_genre :\n",
    "        pop_genre[row['GENRE_BOTA']]+=1\n",
    "    else :\n",
    "        pop_genre[row['GENRE_BOTA']]=1\n",
    "#print(pop_genre)"
   ]
  },
  {
   "cell_type": "code",
   "execution_count": 36,
   "metadata": {},
   "outputs": [
    {
     "name": "stdout",
     "output_type": "stream",
     "text": [
      "474 ms ± 2.09 ms per loop (mean ± std. dev. of 7 runs, 1 loop each)\n"
     ]
    }
   ],
   "source": [
    "%%timeit\n",
    "genres = [elem['GENRE_BOTA'] for elem in data_dict]\n",
    "genres_uniques = set(genres)\n",
    "pop_genre = {elem:genres.count(elem) for elem in genres_uniques}\n",
    "#print(pop_genre)"
   ]
  },
  {
   "cell_type": "code",
   "execution_count": 37,
   "metadata": {},
   "outputs": [
    {
     "name": "stdout",
     "output_type": "stream",
     "text": [
      "{'': 438, 'Nyssa': 1, 'Zelkova': 279, 'Cephalotaxus': 3, 'Phellodendron': 17, 'Liriodendron': 512, 'Photinia': 9, 'Cupressocyparis': 97, 'Aesculus': 462, 'Ulmus': 216, 'Fagus': 276, 'Platanus': 4615, 'Malus': 342, 'Clerodendron': 5, 'Taxodium': 11, 'Ptelea': 4, 'Crataegus': 115, 'Celtis': 224, 'Juglans': 73, 'Paulownia': 106, 'Pterostyrax': 6, 'Hibiscus': 3, 'Pyrus': 572, 'Syringa': 41, 'Catalpa': 117, 'Chitalpa': 7, 'Fraxinus': 1515, 'Ficus': 25, 'Calocedrus': 6, 'Fontanesia': 6, 'Larix': 5, 'Pseudotsuga': 1, 'Pteroceltis': 15, 'Cupressus': 212, 'Koelreuteria': 287, 'Ginkgo': 114, 'Carpinus': 1324, 'Sequoiadendron': 9, 'Thuja': 47, 'Sterculia': 1, 'Corylus': 204, 'Pterocarya': 54, 'Buxus': 15, 'Hovenia': 2, 'Tilia': 1776, 'Sequoia': 6, 'Acer': 5260, 'Lagerstroemia': 58, 'Juniperus': 4, 'Sorbopyrus': 1, 'Robinia': 269, 'Ilex': 30, 'Taxus': 203, 'Trachycarpus': 23, 'Ostrya': 74, 'Laburnum': 11, 'Gleditsia': 372, 'Cedrus': 415, 'Euodia': 2, 'Alnus': 816, 'Punica': 4, 'Sorbus': 100, 'Laurus': 1, 'Idesia': 5, 'Phillyrea': 3, 'Libocedrus': 44, 'Chamaecyparis': 367, 'Cladastris': 47, 'Mespilus': 9, 'Halesia': 12, 'Castanea': 1, 'Olea': 8, 'Sciadopitys': 1, 'Rhamnus': 1, 'Ligustrum': 10, 'Broussonetia': 26, 'Cryptomeria': 2, 'Acacia': 1, 'Sambucus': 36, 'Populus': 911, 'Cercidiphyllum': 12, 'Sophora': 423, 'Prunus': 1170, 'Picea': 257, 'Poncinos': 1, 'Parrotia': 65, 'Eucalyptus': 1, 'Pistacia': 10, 'Diospyros': 23, 'Quercus': 775, 'Cotinus': 9, 'Amélanchier': 143, 'Albizia': 64, 'Maclura': 9, 'Eriobotrya ': 3, 'Morus': 105, 'Cedrela': 52, 'Araucaria': 2, 'Metasequoia': 84, 'Carya': 3, 'Rhus': 8, 'Abies': 26, 'Styrax': 3, 'Liquidambar': 810, 'Tetradium': 81, 'Staphylea': 1, 'Salix': 139, 'Betula': 1218, 'Cornus': 25, 'Cercis': 339, 'Davidia': 8, 'Chionanthus': 63, 'Cydonia': 19, 'Lonicera': 6, 'Eleagnus': 16, 'Chimonanthus': 3, 'Gymnocladus': 9, 'Magnolia': 451, 'Ailanthus': 79, 'Pinus': 2075}\n"
     ]
    }
   ],
   "source": [
    "print(pop_genre)"
   ]
  },
  {
   "cell_type": "markdown",
   "metadata": {},
   "source": [
    "Travail sur le genre le plus représenté"
   ]
  },
  {
   "cell_type": "code",
   "execution_count": 38,
   "metadata": {},
   "outputs": [
    {
     "name": "stdout",
     "output_type": "stream",
     "text": [
      "Le genre le plus représenté est Acer avec 5260 individus.\n"
     ]
    }
   ],
   "source": [
    "pop_max = 0\n",
    "genre_max = ''\n",
    "for (key,value) in pop_genre.items() :\n",
    "    if value > pop_max :\n",
    "        pop_max = value\n",
    "        genre_max = key\n",
    "#print(f'Le genre le plus représenté est {genre_max} avec {pop_max} individus.')"
   ]
  },
  {
   "cell_type": "code",
   "execution_count": 39,
   "metadata": {},
   "outputs": [],
   "source": [
    "import operator"
   ]
  },
  {
   "cell_type": "code",
   "execution_count": 42,
   "metadata": {},
   "outputs": [
    {
     "name": "stdout",
     "output_type": "stream",
     "text": [
      "Le genre le plus représenté est Acer avec 5260 individus.\n"
     ]
    }
   ],
   "source": [
    "# avec une méthode plus rapide\n",
    "genre_max, pop_max = max(pop_genre.items(), key=operator.itemgetter(1))\n",
    "#print(f'Le genre le plus représenté est {genre_max} avec {pop_max} individus.')"
   ]
  },
  {
   "cell_type": "code",
   "execution_count": null,
   "metadata": {},
   "outputs": [],
   "source": []
  }
 ],
 "metadata": {
  "kernelspec": {
   "display_name": "Python 3",
   "language": "python",
   "name": "python3"
  },
  "language_info": {
   "codemirror_mode": {
    "name": "ipython",
    "version": 3
   },
   "file_extension": ".py",
   "mimetype": "text/x-python",
   "name": "python",
   "nbconvert_exporter": "python",
   "pygments_lexer": "ipython3",
   "version": "3.7.1"
  }
 },
 "nbformat": 4,
 "nbformat_minor": 4
}
