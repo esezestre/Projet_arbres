{
 "cells": [
  {
   "cell_type": "markdown",
   "metadata": {},
   "source": [
    "# Projet arbres de Grenoble jour 2"
   ]
  },
  {
   "cell_type": "markdown",
   "metadata": {},
   "source": [
    "Travail sur les set, dict et un peu d'analyse de données."
   ]
  },
  {
   "cell_type": "code",
   "execution_count": 1,
   "metadata": {},
   "outputs": [],
   "source": [
    "# coding: utf-8\n",
    "\n",
    "import csv\n",
    "from pathlib import Path"
   ]
  },
  {
   "cell_type": "code",
   "execution_count": 3,
   "metadata": {},
   "outputs": [
    {
     "name": "stdout",
     "output_type": "stream",
     "text": [
      "True\n"
     ]
    }
   ],
   "source": [
    "data_path = Path.cwd().parent / 'data/ESP_PUBLIC.IDENTITE_ARBRE.csv'\n",
    "print(data_path.exists())"
   ]
  },
  {
   "cell_type": "code",
   "execution_count": 6,
   "metadata": {},
   "outputs": [],
   "source": [
    "with open(data_path) as data_file :\n",
    "    dictReader = csv.DictReader(data_file)\n",
    "    data_dict = []\n",
    "    for row in dictReader :\n",
    "        data_dict.append(row)"
   ]
  },
  {
   "cell_type": "code",
   "execution_count": 9,
   "metadata": {},
   "outputs": [
    {
     "data": {
      "text/plain": [
       "odict_keys(['\\ufeffELEM_POINT_ID', 'CODE', 'NOM', 'GENRE', 'GENRE_DESC', 'CATEGORIE', 'CATEGORIE_DESC', 'SOUS_CATEGORIE', 'SOUS_CATEGORIE_DESC', 'CODE_PARENT', 'CODE_PARENT_DESC', 'ADR_SECTEUR', 'BIEN_REFERENCE', 'GENRE_BOTA', 'ESPECE', 'VARIETE', 'STADEDEDEVELOPPEMENT', 'EQUIPE', 'REMARQUES', 'ANNEEDEPLANTATION', 'RAISONDEPLANTATION', 'TRAITEMENTCHENILLES', 'COURRIER', 'IDENTIFIANTPLU', 'TYPEIMPLANTATIONPLU', 'INTITULEPROTECTIONPLU', 'ANNEEABATTAGE', 'ESSOUCHEMENT', 'DIAMETREARBRE', 'CAUSEABATTAGE', 'COLLECTIVITE', 'GeoJSON'])"
      ]
     },
     "execution_count": 9,
     "metadata": {},
     "output_type": "execute_result"
    }
   ],
   "source": [
    "data_dict[0].keys()"
   ]
  },
  {
   "cell_type": "markdown",
   "metadata": {},
   "source": [
    "Affichage des différents genres botaniques et mesure du temps nécessaire."
   ]
  },
  {
   "cell_type": "code",
   "execution_count": 18,
   "metadata": {},
   "outputs": [],
   "source": [
    "# %%timeit\n",
    "genres = [elem['GENRE_BOTA'] for elem in data_dict]\n",
    "genres = set(genres)"
   ]
  },
  {
   "cell_type": "code",
   "execution_count": 12,
   "metadata": {},
   "outputs": [
    {
     "name": "stdout",
     "output_type": "stream",
     "text": [
      "17.4 ms ± 551 µs per loop (mean ± std. dev. of 7 runs, 100 loops each)\n"
     ]
    }
   ],
   "source": [
    "%%timeit\n",
    "genres = []\n",
    "for elem in data_dict :\n",
    "    if elem['GENRE_BOTA'] not in genres :\n",
    "        genres.append(elem['GENRE_BOTA'])"
   ]
  },
  {
   "cell_type": "code",
   "execution_count": 14,
   "metadata": {},
   "outputs": [
    {
     "name": "stdout",
     "output_type": "stream",
     "text": [
      "20.1 ms ± 174 µs per loop (mean ± std. dev. of 7 runs, 100 loops each)\n"
     ]
    }
   ],
   "source": [
    "%%timeit\n",
    "genres = set()\n",
    "for elem in data_dict :\n",
    "    genres.add(elem['GENRE_BOTA'])"
   ]
  },
  {
   "cell_type": "code",
   "execution_count": 20,
   "metadata": {},
   "outputs": [
    {
     "name": "stdout",
     "output_type": "stream",
     "text": [
      "{'', 'Nyssa', 'Zelkova', 'Cephalotaxus', 'Phellodendron', 'Liriodendron', 'Photinia', 'Cupressocyparis', 'Aesculus', 'Ulmus', 'Fagus', 'Platanus', 'Malus', 'Clerodendron', 'Taxodium', 'Ptelea', 'Crataegus', 'Celtis', 'Juglans', 'Paulownia', 'Pterostyrax', 'Hibiscus', 'Pyrus', 'Syringa', 'Catalpa', 'Chitalpa', 'Fraxinus', 'Ficus', 'Calocedrus', 'Fontanesia', 'Larix', 'Pseudotsuga', 'Pteroceltis', 'Cupressus', 'Koelreuteria', 'Ginkgo', 'Carpinus', 'Sequoiadendron', 'Thuja', 'Sterculia', 'Corylus', 'Pterocarya', 'Buxus', 'Hovenia', 'Tilia', 'Sequoia', 'Acer', 'Lagerstroemia', 'Juniperus', 'Sorbopyrus', 'Robinia', 'Ilex', 'Taxus', 'Trachycarpus', 'Ostrya', 'Laburnum', 'Gleditsia', 'Cedrus', 'Euodia', 'Alnus', 'Punica', 'Sorbus', 'Laurus', 'Idesia', 'Phillyrea', 'Libocedrus', 'Chamaecyparis', 'Cladastris', 'Mespilus', 'Halesia', 'Castanea', 'Olea', 'Sciadopitys', 'Rhamnus', 'Ligustrum', 'Broussonetia', 'Cryptomeria', 'Acacia', 'Sambucus', 'Populus', 'Cercidiphyllum', 'Sophora', 'Prunus', 'Picea', 'Poncinos', 'Parrotia', 'Eucalyptus', 'Pistacia', 'Diospyros', 'Quercus', 'Cotinus', 'Amélanchier', 'Albizia', 'Maclura', 'Eriobotrya ', 'Morus', 'Cedrela', 'Araucaria', 'Metasequoia', 'Carya', 'Rhus', 'Abies', 'Styrax', 'Liquidambar', 'Tetradium', 'Staphylea', 'Salix', 'Betula', 'Cornus', 'Cercis', 'Davidia', 'Chionanthus', 'Cydonia', 'Lonicera', 'Eleagnus', 'Chimonanthus', 'Gymnocladus', 'Magnolia', 'Ailanthus', 'Pinus'}\n",
      "Il y a 120 genres botaniques représentés.\n"
     ]
    }
   ],
   "source": [
    "print(genres)\n",
    "print(f'Il y a {len(genres)} genres botaniques représentés.')"
   ]
  },
  {
   "cell_type": "markdown",
   "metadata": {},
   "source": [
    "Identification des espèces"
   ]
  },
  {
   "cell_type": "code",
   "execution_count": 25,
   "metadata": {},
   "outputs": [
    {
     "name": "stdout",
     "output_type": "stream",
     "text": [
      "Il y a 393 especes botaniques représentés.\n"
     ]
    }
   ],
   "source": [
    "especes = set() # especes va être un set de tuples ('genre', 'espece')\n",
    "for elem in data_dict :\n",
    "    especes.add((elem['GENRE_BOTA'], elem['ESPECE']))\n",
    "print(f'Il y a {len(especes)} especes botaniques représentés.')"
   ]
  },
  {
   "cell_type": "code",
   "execution_count": 26,
   "metadata": {},
   "outputs": [
    {
     "data": {
      "text/plain": [
       "True"
      ]
     },
     "execution_count": 26,
     "metadata": {},
     "output_type": "execute_result"
    }
   ],
   "source": [
    "('','') in especes"
   ]
  },
  {
   "cell_type": "markdown",
   "metadata": {},
   "source": [
    "Comptage du nombre de représentants dans chaque genre"
   ]
  },
  {
   "cell_type": "code",
   "execution_count": 35,
   "metadata": {},
   "outputs": [
    {
     "name": "stdout",
     "output_type": "stream",
     "text": [
      "31.1 ms ± 1.48 ms per loop (mean ± std. dev. of 7 runs, 10 loops each)\n"
     ]
    }
   ],
   "source": [
    "%%timeit\n",
    "pop_genre = {} # dictionnaire {'genre': nombre}\n",
    "for row in data_dict :\n",
    "    if row['GENRE_BOTA'] in pop_genre :\n",
    "        pop_genre[row['GENRE_BOTA']]+=1\n",
    "    else :\n",
    "        pop_genre[row['GENRE_BOTA']]=1\n",
    "#print(pop_genre)"
   ]
  },
  {
   "cell_type": "code",
   "execution_count": 36,
   "metadata": {},
   "outputs": [
    {
     "name": "stdout",
     "output_type": "stream",
     "text": [
      "474 ms ± 2.09 ms per loop (mean ± std. dev. of 7 runs, 1 loop each)\n"
     ]
    }
   ],
   "source": [
    "%%timeit\n",
    "genres = [elem['GENRE_BOTA'] for elem in data_dict]\n",
    "genres_uniques = set(genres)\n",
    "pop_genre = {elem:genres.count(elem) for elem in genres_uniques}\n",
    "#print(pop_genre)"
   ]
  },
  {
   "cell_type": "code",
   "execution_count": 37,
   "metadata": {},
   "outputs": [
    {
     "name": "stdout",
     "output_type": "stream",
     "text": [
      "{'': 438, 'Nyssa': 1, 'Zelkova': 279, 'Cephalotaxus': 3, 'Phellodendron': 17, 'Liriodendron': 512, 'Photinia': 9, 'Cupressocyparis': 97, 'Aesculus': 462, 'Ulmus': 216, 'Fagus': 276, 'Platanus': 4615, 'Malus': 342, 'Clerodendron': 5, 'Taxodium': 11, 'Ptelea': 4, 'Crataegus': 115, 'Celtis': 224, 'Juglans': 73, 'Paulownia': 106, 'Pterostyrax': 6, 'Hibiscus': 3, 'Pyrus': 572, 'Syringa': 41, 'Catalpa': 117, 'Chitalpa': 7, 'Fraxinus': 1515, 'Ficus': 25, 'Calocedrus': 6, 'Fontanesia': 6, 'Larix': 5, 'Pseudotsuga': 1, 'Pteroceltis': 15, 'Cupressus': 212, 'Koelreuteria': 287, 'Ginkgo': 114, 'Carpinus': 1324, 'Sequoiadendron': 9, 'Thuja': 47, 'Sterculia': 1, 'Corylus': 204, 'Pterocarya': 54, 'Buxus': 15, 'Hovenia': 2, 'Tilia': 1776, 'Sequoia': 6, 'Acer': 5260, 'Lagerstroemia': 58, 'Juniperus': 4, 'Sorbopyrus': 1, 'Robinia': 269, 'Ilex': 30, 'Taxus': 203, 'Trachycarpus': 23, 'Ostrya': 74, 'Laburnum': 11, 'Gleditsia': 372, 'Cedrus': 415, 'Euodia': 2, 'Alnus': 816, 'Punica': 4, 'Sorbus': 100, 'Laurus': 1, 'Idesia': 5, 'Phillyrea': 3, 'Libocedrus': 44, 'Chamaecyparis': 367, 'Cladastris': 47, 'Mespilus': 9, 'Halesia': 12, 'Castanea': 1, 'Olea': 8, 'Sciadopitys': 1, 'Rhamnus': 1, 'Ligustrum': 10, 'Broussonetia': 26, 'Cryptomeria': 2, 'Acacia': 1, 'Sambucus': 36, 'Populus': 911, 'Cercidiphyllum': 12, 'Sophora': 423, 'Prunus': 1170, 'Picea': 257, 'Poncinos': 1, 'Parrotia': 65, 'Eucalyptus': 1, 'Pistacia': 10, 'Diospyros': 23, 'Quercus': 775, 'Cotinus': 9, 'Amélanchier': 143, 'Albizia': 64, 'Maclura': 9, 'Eriobotrya ': 3, 'Morus': 105, 'Cedrela': 52, 'Araucaria': 2, 'Metasequoia': 84, 'Carya': 3, 'Rhus': 8, 'Abies': 26, 'Styrax': 3, 'Liquidambar': 810, 'Tetradium': 81, 'Staphylea': 1, 'Salix': 139, 'Betula': 1218, 'Cornus': 25, 'Cercis': 339, 'Davidia': 8, 'Chionanthus': 63, 'Cydonia': 19, 'Lonicera': 6, 'Eleagnus': 16, 'Chimonanthus': 3, 'Gymnocladus': 9, 'Magnolia': 451, 'Ailanthus': 79, 'Pinus': 2075}\n"
     ]
    }
   ],
   "source": [
    "print(pop_genre)"
   ]
  },
  {
   "cell_type": "markdown",
   "metadata": {},
   "source": [
    "Travail sur le genre le plus représenté"
   ]
  },
  {
   "cell_type": "code",
   "execution_count": 43,
   "metadata": {},
   "outputs": [
    {
     "name": "stdout",
     "output_type": "stream",
     "text": [
      "24.9 µs ± 33.2 ns per loop (mean ± std. dev. of 7 runs, 10000 loops each)\n"
     ]
    }
   ],
   "source": [
    "%%timeit\n",
    "pop_max = 0\n",
    "genre_max = ''\n",
    "for (key,value) in pop_genre.items() :\n",
    "    if value > pop_max :\n",
    "        pop_max = value\n",
    "        genre_max = key\n",
    "#print(f'Le genre le plus représenté est {genre_max} avec {pop_max} individus.')"
   ]
  },
  {
   "cell_type": "code",
   "execution_count": 39,
   "metadata": {},
   "outputs": [],
   "source": [
    "import operator"
   ]
  },
  {
   "cell_type": "code",
   "execution_count": 44,
   "metadata": {},
   "outputs": [
    {
     "name": "stdout",
     "output_type": "stream",
     "text": [
      "39.6 µs ± 60.6 ns per loop (mean ± std. dev. of 7 runs, 10000 loops each)\n"
     ]
    }
   ],
   "source": [
    "%%timeit\n",
    "# avec une méthode plus rapide ?\n",
    "genre_max, pop_max = max(pop_genre.items(), key=operator.itemgetter(1))\n",
    "#print(f'Le genre le plus représenté est {genre_max} avec {pop_max} individus.')"
   ]
  },
  {
   "cell_type": "code",
   "execution_count": 54,
   "metadata": {},
   "outputs": [
    {
     "name": "stdout",
     "output_type": "stream",
     "text": [
      "21.9 µs ± 24 ns per loop (mean ± std. dev. of 7 runs, 10000 loops each)\n"
     ]
    }
   ],
   "source": [
    "%%timeit\n",
    "# proportion par rapport au total\n",
    "pop_totale = 0\n",
    "#for (key,value) in pop_genre.items() :\n",
    "for value in pop_genre.values() :\n",
    "    pop_totale += value\n",
    "#print(f'La proportion totale de {genre_max} est {pop_max/pop_totale*100:.1f} %.')"
   ]
  },
  {
   "cell_type": "code",
   "execution_count": 56,
   "metadata": {},
   "outputs": [
    {
     "name": "stdout",
     "output_type": "stream",
     "text": [
      "La proportion totale de Acer est 16.5 %.\n"
     ]
    }
   ],
   "source": [
    "#%%timeit\n",
    "# même chose en succint\n",
    "pop_totale = sum(pop_genre.values())\n",
    "print(f'La proportion totale de {genre_max} est {pop_max/pop_totale*100:.1f} %.')"
   ]
  },
  {
   "cell_type": "markdown",
   "metadata": {},
   "source": [
    "Conclusion sur le genre : comme le genre le plus repésenté correspond à 16.5% du total, l'objectif de moins de 20% d'un genre est atteint."
   ]
  },
  {
   "cell_type": "code",
   "execution_count": 67,
   "metadata": {},
   "outputs": [
    {
     "name": "stdout",
     "output_type": "stream",
     "text": [
      "4745 Sorbopyrus\n",
      "16016 Poncinos\n",
      "26962 Sciadopitys\n",
      "11575 Castanea\n",
      "38201 Laurus\n",
      "33324 Rhamnus\n",
      "22863 Sterculia\n",
      "40701 Acacia\n",
      "25732 Eucalyptus\n",
      "33239 Staphylea\n",
      "18619 Pseudotsuga\n",
      "30294 Nyssa\n"
     ]
    }
   ],
   "source": [
    "tout_seul = [key for (key,value) in pop_genre.items() if value == 1]\n",
    "for row in data_dict :\n",
    "    if row['GENRE_BOTA'] in tout_seul :\n",
    "        print(row['\\ufeffELEM_POINT_ID'], row['GENRE_BOTA'])"
   ]
  },
  {
   "cell_type": "markdown",
   "metadata": {},
   "source": [
    "Travail sur les espèces"
   ]
  },
  {
   "cell_type": "code",
   "execution_count": 61,
   "metadata": {},
   "outputs": [],
   "source": [
    "espece = [elem['GENRE_BOTA']+' '+elem['ESPECE'] for elem in data_dict]\n",
    "espece_unique = set(espece)\n",
    "pop_espece = [(elem,espece.count(elem)) for elem in espece_unique]\n",
    "# pop_espece est une liste de tuples ('genre espece', nb)"
   ]
  },
  {
   "cell_type": "code",
   "execution_count": 62,
   "metadata": {},
   "outputs": [
    {
     "data": {
      "text/plain": [
       "[('Metasequoia glyptostroboides', 84),\n",
       " ('Prunus laurocerasus', 9),\n",
       " ('Catalpa bignonoides', 117),\n",
       " ('Amélanchier alnifolia', 3),\n",
       " ('Quercus petraea', 126),\n",
       " ('Abies alba', 1),\n",
       " ('Hovenia dulcis', 2),\n",
       " ('Sorbopyrus auricularis', 1),\n",
       " ('Acer palmatum', 2),\n",
       " ('Pyrus pyrifolia', 3),\n",
       " ('Ligustrum ', 1),\n",
       " ('Ulmus ', 17),\n",
       " ('Salix triandra', 5),\n",
       " ('Mespilus germanica', 9),\n",
       " ('Populus ', 81),\n",
       " ('Acer ginnala', 50),\n",
       " ('Cedrus atlantica', 319),\n",
       " ('Pinus parviflora', 1),\n",
       " ('Ulmus campestris', 16),\n",
       " ('Liriodendron tulipifera', 511),\n",
       " ('Quercus cerris', 234),\n",
       " ('Acacia dealbata', 1),\n",
       " ('Thuja ', 21),\n",
       " ('Aesculus hippocastanum', 407),\n",
       " ('Ilex ', 2),\n",
       " ('Fraxinus velutina', 66),\n",
       " ('Chamaecyparis ', 2),\n",
       " ('Prunus subhirtella', 30),\n",
       " ('Diospyros lotus', 8),\n",
       " ('Prunus incisa', 7),\n",
       " ('Ptelea trifoliata', 4),\n",
       " ('Cupressus arizonica', 59),\n",
       " ('Prunus campanulata', 2),\n",
       " ('Cupressus ', 1),\n",
       " ('Quercus macrolepis', 1),\n",
       " ('Prunus schmittii', 8),\n",
       " ('Juglans ', 3),\n",
       " ('Ulmus laevis', 3),\n",
       " ('Cydonia vulgaris', 1),\n",
       " ('Paulownia fortunei', 23),\n",
       " ('Pinus pinea', 2),\n",
       " ('Celtis ', 10),\n",
       " ('Hibiscus syriacus', 3),\n",
       " ('Crataegus ', 30),\n",
       " (' ', 438),\n",
       " ('Abies nordmanniana', 17),\n",
       " ('Juniperus drupacea', 1),\n",
       " ('Eriobotrya  japonica', 3),\n",
       " ('Nyssa sylvatica', 1),\n",
       " ('Betula nigra', 34),\n",
       " ('Ilex aquifolium', 28),\n",
       " ('Chamaecyparis pisifera', 1),\n",
       " ('Betula verrucosa', 548),\n",
       " ('Fagus sylvatica', 275),\n",
       " ('Tilia americana', 87),\n",
       " ('Prunus aquifolium', 1),\n",
       " ('Pinus nigra', 1325),\n",
       " ('Araucaria araucana', 2),\n",
       " ('Calocedrus decurrens', 6),\n",
       " ('Celtis occidentalis', 10),\n",
       " ('Malus tschonoskii', 22),\n",
       " ('Amélanchier ovalis', 8),\n",
       " ('Prunus cerasus', 31),\n",
       " ('Magnolia stellata', 2),\n",
       " ('Morus nigra', 37),\n",
       " ('Pteroceltis tatarinowii', 15),\n",
       " ('Acer freemanii', 68),\n",
       " ('Maclura pomifera', 9),\n",
       " ('Crataegus oxyacantha', 42),\n",
       " ('Quercus macrocarpa', 1),\n",
       " ('Salix ', 44),\n",
       " ('Diospyros virginiana', 6),\n",
       " ('Acer nikoense', 2),\n",
       " ('Prunus spinosa', 31),\n",
       " ('Malus avium', 1),\n",
       " ('Salix viminalis', 17),\n",
       " ('Abies pinsapo', 2),\n",
       " ('Malus excelsior', 1),\n",
       " ('Sorbus torminalis', 15),\n",
       " ('Acer cappadocicum', 207),\n",
       " ('Crataegus laevigata', 14),\n",
       " ('Prunus amygdalus', 2),\n",
       " ('Prunus serrulata', 454),\n",
       " ('Fontanesia phillyreoides', 6),\n",
       " ('Betula ', 9),\n",
       " ('Populus alba', 109),\n",
       " ('Cladastris kentukea', 1),\n",
       " ('Quercus rubra', 28),\n",
       " ('Malus floribunda', 137),\n",
       " ('Ulmus campestre', 1),\n",
       " ('Thuja plicata', 20),\n",
       " ('Trachycarpus fortunei', 23),\n",
       " ('Chitalpa tashkentensis', 7),\n",
       " ('Sterculia foetida', 1),\n",
       " ('Salix purpurea', 5),\n",
       " ('Picea ', 6),\n",
       " ('Acer platanoides', 1097),\n",
       " ('Staphylea bumalda', 1),\n",
       " ('Cotinus coggygria', 9),\n",
       " ('Syringa persica', 2),\n",
       " ('Populus canadensis', 207),\n",
       " ('Malus ioenis', 1),\n",
       " ('Lonicera fragmantissima', 3),\n",
       " ('Malus spectabilis', 5),\n",
       " ('Quercus palustris', 21),\n",
       " ('Amélanchier canadensis', 72),\n",
       " ('Prunus ', 110),\n",
       " ('Alnus ', 17),\n",
       " ('Populus tremula', 19),\n",
       " ('Cercis ', 3),\n",
       " ('Juniperus virginiana', 1),\n",
       " ('Photinia villosa', 9),\n",
       " ('Sambucus nigra', 33),\n",
       " ('Ostrya carpinifolia', 74),\n",
       " ('Morus bombycis', 25),\n",
       " ('Buxus sempervirens', 15),\n",
       " ('Quercus imbricaria', 16),\n",
       " ('Malus baccata', 9),\n",
       " ('Sequoiadendron sempervirens', 1),\n",
       " ('Phillyrea latifolia', 3),\n",
       " ('Pterocarya ', 1),\n",
       " ('Robinia pseudoacacia', 265),\n",
       " ('Acer rubrum', 30),\n",
       " ('Quercus heterophylla', 1),\n",
       " ('Sorbus aria', 46),\n",
       " ('Alnus cordata', 518),\n",
       " ('Salix babylonica', 9),\n",
       " ('Cydonia oblonga', 16),\n",
       " ('Acer pseudoplatanus', 1337),\n",
       " ('Acer monspessulanum', 81),\n",
       " ('Lagerstroemia ', 4),\n",
       " ('Platanus acerifolia', 4008),\n",
       " ('Quercus libani', 1),\n",
       " ('Sorbus latifolia', 3),\n",
       " ('Fraxinus oxycarpa', 78),\n",
       " ('Cercis chinensis', 5),\n",
       " ('Ulmus carpinifolia', 2),\n",
       " ('Amélanchier lamarckii', 16),\n",
       " ('Cladastris ', 1),\n",
       " ('Tilia cordata', 276),\n",
       " ('Liriodendron ', 1),\n",
       " ('Juglans regia', 34),\n",
       " ('Quercus ilex', 22),\n",
       " ('Fagus ', 1),\n",
       " ('Platanus hispanica', 338),\n",
       " ('Rhus typhina', 8),\n",
       " ('Prunus armeniaca', 7),\n",
       " ('Acer japonicum', 3),\n",
       " ('Fraxinus ornus', 120),\n",
       " ('Cornus controversa', 7),\n",
       " ('Cercidiphyllum japonicum', 11),\n",
       " ('Celtis orientalis', 1),\n",
       " ('Poncinos ', 1),\n",
       " ('Pyrus salicifolia', 12),\n",
       " ('Betula utilis', 374),\n",
       " ('Abies concolor', 5),\n",
       " ('Ulmus glabra', 12),\n",
       " ('Thuja occidentalis', 6),\n",
       " ('Magnolia heptapeta', 1),\n",
       " ('Malus cerasifera', 1),\n",
       " ('Pyrus nivalis', 11),\n",
       " ('Chimonanthus praecox', 3),\n",
       " ('Fraxinus pennsylvanica', 27),\n",
       " ('Phellodendron amurense', 14),\n",
       " ('Quercus turneri', 2),\n",
       " ('Laburnum anagyroides', 11),\n",
       " ('Quercus myrsinifolia', 4),\n",
       " ('Ulmus parvifolia', 5),\n",
       " ('Malus ', 25),\n",
       " ('Celtis julianae', 9),\n",
       " ('Fraxinus mariesii', 8),\n",
       " ('Zelkova crenata', 2),\n",
       " ('Albizia julibrissin', 64),\n",
       " ('Tilia tomentosa', 968),\n",
       " ('Celtis australis', 146),\n",
       " ('Quercus robur', 99),\n",
       " ('Cephalotaxus harringtonia', 3),\n",
       " ('Acer opalus', 1),\n",
       " ('Ficus ', 1),\n",
       " ('Prunus cerasifera', 100),\n",
       " ('Quercus phellos', 6),\n",
       " ('Cladastris lutea', 45),\n",
       " ('Fraxinus mandshurica', 18),\n",
       " ('Chionanthus retusus', 44),\n",
       " ('Cupressus nootkatensis', 3),\n",
       " ('Acer griseum', 5),\n",
       " ('Juniperus ', 2),\n",
       " ('Salix rosmarinifolia', 2),\n",
       " ('Magnolia hybride', 3),\n",
       " ('Chamaecyparis nootkatensis', 2),\n",
       " ('Acer macrophyllum', 1),\n",
       " ('Quercus rysophylla', 4),\n",
       " ('Sorbus domestica', 4),\n",
       " ('Ligustrum ibota', 3),\n",
       " ('Morus alba', 28),\n",
       " ('Quercus ', 58),\n",
       " ('Taxus baccata', 199),\n",
       " ('Halesia carolina', 11),\n",
       " ('Picea orientalis', 16),\n",
       " ('Picea pungens', 13),\n",
       " ('Tilia europaea', 8),\n",
       " ('Pyrus communis', 53),\n",
       " ('Tilia platyphyllos', 279),\n",
       " ('Carpinus orientalis', 14),\n",
       " ('Tilia henryana', 34),\n",
       " ('Tilia kiusiana', 9),\n",
       " ('Tetradium daniellii', 81),\n",
       " ('Platanus platanor', 84),\n",
       " ('Cercis canadensis', 13),\n",
       " ('Pyrus elaeagnifolia', 1),\n",
       " ('Picea abies', 218),\n",
       " ('Quercus bicolor', 4),\n",
       " ('Cornus mas', 10),\n",
       " ('Gymnocladus dioicus', 9),\n",
       " ('Prunus yedoensis', 12),\n",
       " ('Eucalyptus gunii', 1),\n",
       " ('Acer hippocastanum', 1),\n",
       " ('Crataegus crus-galli', 2),\n",
       " ('Fraxinus angustifolia', 217),\n",
       " ('Sorbus chamaemespilus', 1),\n",
       " ('Larix decidua', 5),\n",
       " ('Cedrela ', 4),\n",
       " ('Populus simonii', 6),\n",
       " ('Ligustrum sinense', 3),\n",
       " ('Cercis siliquastrum', 318),\n",
       " ('Salix caprea', 4),\n",
       " ('Chamaecyparis formosensis', 1),\n",
       " ('Pistacia chinensis', 10),\n",
       " ('Lonicera ', 3),\n",
       " ('Chamaecyparis lawsoniana', 361),\n",
       " ('Idesia polycarpa', 5),\n",
       " ('Crataegus prunifolia', 1),\n",
       " ('Koelreuteria paniculata', 287),\n",
       " ('Prunus dulcis', 9),\n",
       " ('Acer carpinifolium', 2),\n",
       " ('Paulownia tomentosa', 81),\n",
       " ('Tilia euchlora', 2),\n",
       " ('Cydonia ', 2),\n",
       " ('Chionanthus ', 14),\n",
       " ('Syringa reticulata', 8),\n",
       " ('Cornus sanguinea', 2),\n",
       " ('Quercus frainetto', 33),\n",
       " ('Phellodendron ', 3),\n",
       " ('Betula pendula', 152),\n",
       " ('Cornus florida', 6),\n",
       " ('Pterocarya stenoptera', 6),\n",
       " ('Corylus ', 20),\n",
       " ('Castanea sativa', 1),\n",
       " ('Rhamnus alaternus', 1),\n",
       " ('Pinus mugo', 1),\n",
       " ('Acer ', 716),\n",
       " ('Euodia daniellii', 2),\n",
       " ('Acer pensylvanicum', 17),\n",
       " ('Acer davidii', 10),\n",
       " ('Malus sieboldii', 12),\n",
       " ('Malus perpetu', 32),\n",
       " ('Carya ovalis', 3),\n",
       " ('Sorbus ', 18),\n",
       " ('Aesculus parviflora', 2),\n",
       " ('Ginkgo biloba', 114),\n",
       " ('Olea ', 1),\n",
       " ('Quercus hispanica', 2),\n",
       " ('Taxus ', 4),\n",
       " ('Punica granatum', 4),\n",
       " ('Prunus tomentosa', 1),\n",
       " ('Liquidambar styraciflua', 803),\n",
       " ('Carpinus ', 7),\n",
       " ('Amélanchier grandiflora', 4),\n",
       " ('Quercus castaneifolia', 68),\n",
       " ('Sequoia sempervirens', 6),\n",
       " ('Acer zoeschense', 1),\n",
       " ('Sorbus thuringiaca', 3),\n",
       " ('Amélanchier ', 37),\n",
       " ('Fraxinus sieboldiana', 4),\n",
       " ('Laurus nobilis', 1),\n",
       " ('Pterocarya fraxinifolia', 47),\n",
       " ('Pyrus ', 8),\n",
       " ('Lagerstroemia indica', 54),\n",
       " ('Cedrela sinensis', 47),\n",
       " ('Tilia mongolica', 32),\n",
       " ('Prunus accolade', 10),\n",
       " ('Prunus padus', 105),\n",
       " ('Acer tartaricum', 5),\n",
       " ('Alnus glutinosa', 179),\n",
       " ('Alnus spaethii', 89),\n",
       " ('Pinus bungeana', 2),\n",
       " ('Betula papyrifera', 23),\n",
       " ('Aesculus chandelle seche', 2),\n",
       " ('Quercus suber', 17),\n",
       " ('Robinia ', 4),\n",
       " ('Liquidambar ', 5),\n",
       " ('Magnolia liliflora', 1),\n",
       " ('Eleagnus angustifolia', 16),\n",
       " ('Corylus colurna', 157),\n",
       " ('Tilia ', 81),\n",
       " ('Sorbus cuspidata', 3),\n",
       " ('Ulmus resista', 24),\n",
       " ('Prunus serotina', 2),\n",
       " ('Alnus incana', 13),\n",
       " ('Gleditsia triacanthos', 370),\n",
       " ('Sambucus racemosa', 2),\n",
       " ('Quercus variabilis', 10),\n",
       " ('Liquidambar orientalis', 2),\n",
       " ('Cercidiphyllum ', 1),\n",
       " ('Picea omorika', 4),\n",
       " ('Chionanthus virginicus', 5),\n",
       " ('Quercus coccinea', 3),\n",
       " ('Sciadopitys verticillata', 1),\n",
       " ('Betula alba', 78),\n",
       " ('Olea europaea', 7),\n",
       " ('Quercus fraxinifolia', 1),\n",
       " ('Pinus verrucosa', 1),\n",
       " ('Magnolia kobus', 67),\n",
       " ('Libocedrus decurrens', 44),\n",
       " ('Broussonetia papyrifera', 26),\n",
       " ('Acer heldreichii', 2),\n",
       " ('Ligustrum japonicum', 3),\n",
       " ('Carpinus betulus', 1303),\n",
       " ('Amélanchier laevis', 3),\n",
       " ('Cedrela sinense', 1),\n",
       " ('Cupressocyparis leylandii', 97),\n",
       " ('Acer buergerianum', 29),\n",
       " ('Prunus persica', 19),\n",
       " ('Pyrus amygdaliformis', 10),\n",
       " ('Celtis sinensis', 48),\n",
       " ('Acer saccharinum', 508),\n",
       " ('Sequoiadendron giganteum', 8),\n",
       " ('Magnolia grandiflora', 330),\n",
       " ('Platanus orientalis', 110),\n",
       " ('Crataegus monogyna', 22),\n",
       " ('Abies koreana', 1),\n",
       " ('Crataegus lavallei', 4),\n",
       " ('Quercus acutissima', 6),\n",
       " ('Halesia monticola', 1),\n",
       " ('Diospyros kaki', 9),\n",
       " ('Morus ', 15),\n",
       " ('Cedrus ', 8),\n",
       " ('Zelkova serrata', 277),\n",
       " ('Ficus carica', 24),\n",
       " ('Pinus sylvestris', 545),\n",
       " ('Prunus mahaleb', 1),\n",
       " ('Quercus falcata', 6),\n",
       " ('Magnolia soulangeana', 41),\n",
       " ('Magnolia ', 6),\n",
       " ('Prunus lusitanica', 6),\n",
       " ('Salix sepulcralis', 4),\n",
       " ('Acer negundo', 174),\n",
       " ('Pyrus bignonoides', 1),\n",
       " ('Malus hupehensis', 3),\n",
       " ('Syringa vulgaris', 31),\n",
       " ('Cedrus deodara', 77),\n",
       " ('Aesculus ', 4),\n",
       " ('Ulmus minor', 136),\n",
       " ('Sambucus ', 1),\n",
       " ('Ailanthus altissima', 79),\n",
       " ('Paulownia ', 2),\n",
       " ('Aesculus pavia', 3),\n",
       " ('Cryptomeria japonica', 2),\n",
       " ('Pinus wallichiana', 18),\n",
       " ('Aesculus carnea', 44),\n",
       " ('Salix alba', 43),\n",
       " ('Malus denboerii', 1),\n",
       " ('Styrax japonica', 3),\n",
       " ('Gleditsia ', 2),\n",
       " ('Fraxinus ', 73),\n",
       " ('Corylus avellana', 27),\n",
       " ('Pinus griffithii', 1),\n",
       " ('Pinus strobus', 1),\n",
       " ('Acer triflorum', 2),\n",
       " ('Fraxinus quadrangulata', 1),\n",
       " ('Fraxinus excelsior', 791),\n",
       " ('Davidia involucrata', 8),\n",
       " ('Populus nigra', 489),\n",
       " ('Prunus domestica', 46),\n",
       " ('Pyrus calleryana', 473),\n",
       " ('Malus domestica', 92),\n",
       " ('Quercus salicifolia', 1),\n",
       " ('Fraxinus americana', 112),\n",
       " ('Pseudotsuga menziesii', 1),\n",
       " ('Sophora japonica', 423),\n",
       " ('Juglans nigra', 36),\n",
       " ('Parrotia persica', 65),\n",
       " ('Cupressus sempervirens', 149),\n",
       " ('Clerodendron tricotonum', 5),\n",
       " ('Cedrus libani', 11),\n",
       " ('Prunus avium', 167),\n",
       " ('Sorbus aucuparia', 7),\n",
       " ('Salix matsudana', 6),\n",
       " ('Taxodium distychum', 11),\n",
       " ('Acer campestre', 909),\n",
       " ('Platanus ', 75),\n",
       " ('Pterostyrax hispida', 6),\n",
       " ('Pinus ', 178)]"
      ]
     },
     "execution_count": 62,
     "metadata": {},
     "output_type": "execute_result"
    }
   ],
   "source": [
    "pop_espece"
   ]
  },
  {
   "cell_type": "code",
   "execution_count": 72,
   "metadata": {},
   "outputs": [
    {
     "name": "stdout",
     "output_type": "stream",
     "text": [
      "L'espèce la plus représentée est Platanus acerifolia avec 4008 individus.\n"
     ]
    }
   ],
   "source": [
    "#%%timeit\n",
    "pop_max = 0\n",
    "espece_max = ''\n",
    "for (key,value) in pop_espece :\n",
    "    if value > pop_max :\n",
    "        pop_max = value\n",
    "        espece_max = key\n",
    "print(f\"L'espèce la plus représentée est {espece_max} avec {pop_max} individus.\")"
   ]
  },
  {
   "cell_type": "code",
   "execution_count": 70,
   "metadata": {},
   "outputs": [
    {
     "name": "stdout",
     "output_type": "stream",
     "text": [
      "108 µs ± 449 ns per loop (mean ± std. dev. of 7 runs, 10000 loops each)\n"
     ]
    }
   ],
   "source": [
    "%%timeit\n",
    "# avec une méthode plus rapide ?\n",
    "espece_max, pop_max = max(pop_espece, key=operator.itemgetter(1))\n",
    "#print(f\"L'espèce la plus représentée est {espece_max} avec {pop_max} individus.\")"
   ]
  },
  {
   "cell_type": "code",
   "execution_count": 82,
   "metadata": {},
   "outputs": [
    {
     "name": "stdout",
     "output_type": "stream",
     "text": [
      "89.2 µs ± 80.8 ns per loop (mean ± std. dev. of 7 runs, 10000 loops each)\n"
     ]
    }
   ],
   "source": [
    "%%timeit\n",
    "# proportion par rapport au total\n",
    "pop_totale = 0\n",
    "for (key,value) in pop_espece :\n",
    "    pop_totale += value\n",
    "#print(f'La proportion totale de {espece_max} est {pop_max/pop_totale*100:.1f} %.')"
   ]
  },
  {
   "cell_type": "code",
   "execution_count": 84,
   "metadata": {},
   "outputs": [
    {
     "name": "stdout",
     "output_type": "stream",
     "text": [
      "La proportion totale de Platanus acerifolia est 12.6 %.\n"
     ]
    }
   ],
   "source": [
    "#%%timeit\n",
    "# même chose en succint\n",
    "pop_totale = sum([elem[1] for elem in pop_espece])\n",
    "print(f'La proportion totale de {espece_max} est {pop_max/pop_totale*100:.1f} %.')"
   ]
  },
  {
   "cell_type": "markdown",
   "metadata": {},
   "source": [
    "Conclusion sur les espèces : l'objectif de la métropole n'est pas atteint avec 12.6% de Platanus acerifolia parmis la population."
   ]
  },
  {
   "cell_type": "code",
   "execution_count": 86,
   "metadata": {},
   "outputs": [
    {
     "name": "stdout",
     "output_type": "stream",
     "text": [
      "65 représentants uniques d'especes.\n",
      "42802 Cedrela sinense\n",
      "23352 Chamaecyparis pisifera\n",
      "23353 Pinus strobus\n",
      "32794 Quercus fraxinifolia\n",
      "23361 Magnolia heptapeta\n",
      "16017 Juniperus drupacea\n",
      "4745 Sorbopyrus auricularis\n",
      "16016 Poncinos \n",
      "26962 Sciadopitys verticillata\n",
      "12375 Juniperus virginiana\n",
      "11575 Castanea sativa\n",
      "38032 Malus excelsior\n",
      "38028 Pyrus bignonoides\n",
      "38019 Prunus aquifolium\n",
      "38007 Malus cerasifera\n",
      "38005 Malus avium\n",
      "38201 Laurus nobilis\n",
      "32559 Acer opalus\n",
      "41403 Abies alba\n",
      "12823 Fraxinus quadrangulata\n",
      "36744 Crataegus prunifolia\n",
      "33324 Rhamnus alaternus\n",
      "22863 Sterculia foetida\n",
      "36585 Magnolia liliflora\n",
      "42781 Quercus macrolepis\n",
      "40701 Acacia dealbata\n",
      "40335 Olea \n",
      "36105 Pyrus elaeagnifolia\n",
      "35243 Ficus \n",
      "22018 Cydonia vulgaris\n",
      "42823 Malus denboerii\n",
      "42330 Pinus parviflora\n",
      "42328 Pinus griffithii\n",
      "36743 Abies koreana\n",
      "25732 Eucalyptus gunii\n",
      "42062 Cladastris kentukea\n",
      "42041 Cladastris \n",
      "41222 Cupressus \n",
      "32744 Acer zoeschense\n",
      "37949 Prunus mahaleb\n",
      "33239 Staphylea bumalda\n",
      "39181 Quercus libani\n",
      "26786 Quercus salicifolia\n",
      "35321 Pinus verrucosa\n",
      "8402 Ulmus campestre\n",
      "32601 Sequoiadendron sempervirens\n",
      "41132 Sambucus \n",
      "41131 Ligustrum \n",
      "31115 Halesia monticola\n",
      "41208 Cercidiphyllum \n",
      "32745 Acer hippocastanum\n",
      "42261 Acer macrophyllum\n",
      "18619 Pseudotsuga menziesii\n",
      "42832 Pterocarya \n",
      "30294 Nyssa sylvatica\n",
      "41549 Fagus \n",
      "12384 Pinus mugo\n",
      "27436 Sorbus chamaemespilus\n",
      "41346 Liriodendron \n",
      "31761 Quercus macrocarpa\n",
      "37545 Quercus heterophylla\n",
      "39893 Celtis orientalis\n",
      "19649 Chamaecyparis formosensis\n",
      "30494 Prunus tomentosa\n",
      "30489 Malus ioenis\n"
     ]
    }
   ],
   "source": [
    "tout_seul = [key for (key,value) in pop_espece if value == 1]\n",
    "print(f\"{len(tout_seul)} représentants uniques d'especes.\")\n",
    "for row in data_dict :\n",
    "    if (row['GENRE_BOTA']+\" \"+row['ESPECE']) in tout_seul :\n",
    "        print(row['\\ufeffELEM_POINT_ID'], row['GENRE_BOTA'], row['ESPECE'])"
   ]
  },
  {
   "cell_type": "code",
   "execution_count": 87,
   "metadata": {},
   "outputs": [
    {
     "data": {
      "text/plain": [
       "True"
      ]
     },
     "execution_count": 87,
     "metadata": {},
     "output_type": "execute_result"
    }
   ],
   "source": [
    "\" \" in espece_unique"
   ]
  },
  {
   "cell_type": "markdown",
   "metadata": {},
   "source": [
    "## Evolution de la pratique de plantation au cours du temps"
   ]
  },
  {
   "cell_type": "code",
   "execution_count": 94,
   "metadata": {},
   "outputs": [],
   "source": [
    "import matplotlib.pyplot as plt"
   ]
  },
  {
   "cell_type": "markdown",
   "metadata": {},
   "source": [
    "Premiere implémentation : création d'un dictionnaire prenant toutes les années présentes et rescençant le nombre d'arbre plantés, le nombre d'arbres et le nom du genre dominant, le nombre d'arbres et le nom de l'espèce dominante."
   ]
  },
  {
   "cell_type": "code",
   "execution_count": 118,
   "metadata": {},
   "outputs": [],
   "source": [
    "#data_dict[0].keys()\n",
    "annees = frozenset([elem['ANNEEDEPLANTATION'] for elem in data_dict])\n",
    "genre_annee = {} # contient un dictionnaire pour chaque année des genres plantés avec leur nombre\n",
    "espece_annee = {} # contient un dictionnaire pour chaque année des espèces plantées avec leur nombre\n",
    "for row in data_dict :\n",
    "    if row['ANNEEDEPLANTATION'] in genre_annee :\n",
    "        if row['GENRE_BOTA'] in genre_annee[row['ANNEEDEPLANTATION']] :\n",
    "            genre_annee[row['ANNEEDEPLANTATION']][row['GENRE_BOTA']] += 1\n",
    "        else :\n",
    "            genre_annee[row['ANNEEDEPLANTATION']][row['GENRE_BOTA']] = 1\n",
    "    else :\n",
    "        genre_annee[row['ANNEEDEPLANTATION']] = {row['GENRE_BOTA']:1}\n",
    "        \n",
    "    if row['ANNEEDEPLANTATION'] in espece_annee :\n",
    "        if row['GENRE_BOTA']+\" \"+row['ESPECE'] in espece_annee[row['ANNEEDEPLANTATION']] :\n",
    "            espece_annee[row['ANNEEDEPLANTATION']][row['GENRE_BOTA']+\" \"+row['ESPECE']] += 1\n",
    "        else :\n",
    "            espece_annee[row['ANNEEDEPLANTATION']][row['GENRE_BOTA']+\" \"+row['ESPECE']] = 1\n",
    "    else :\n",
    "        espece_annee[row['ANNEEDEPLANTATION']] = {row['GENRE_BOTA']+\" \"+row['ESPECE']:1}"
   ]
  },
  {
   "cell_type": "code",
   "execution_count": 103,
   "metadata": {},
   "outputs": [
    {
     "data": {
      "text/plain": [
       "{'Gleditsia triacanthos': 14,\n",
       " 'Tilia tomentosa': 12,\n",
       " 'Albizia julibrissin': 1,\n",
       " 'Cupressus sempervirens': 12,\n",
       " 'Pinus sylvestris': 4,\n",
       " 'Corylus colurna': 5,\n",
       " 'Cercis siliquastrum': 6,\n",
       " 'Magnolia grandiflora': 12,\n",
       " 'Morus nigra': 2,\n",
       " 'Populus nigra': 6,\n",
       " 'Pinus nigra': 1,\n",
       " 'Liriodendron tulipifera': 25,\n",
       " 'Juglans regia': 1,\n",
       " 'Fraxinus americana': 14,\n",
       " 'Fraxinus angustifolia': 2,\n",
       " 'Malus floribunda': 1,\n",
       " 'Acer platanoides': 2,\n",
       " 'Acer pseudoplatanus': 3,\n",
       " 'Prunus serrulata': 1,\n",
       " 'Picea abies': 1,\n",
       " 'Malus perpetu': 1,\n",
       " 'Fraxinus excelsior': 6,\n",
       " 'Tetradium daniellii': 4,\n",
       " 'Betula alba': 1,\n",
       " 'Sambucus nigra': 1,\n",
       " 'Betula pendula': 4,\n",
       " 'Liquidambar styraciflua': 1,\n",
       " 'Prunus cerasifera': 1}"
      ]
     },
     "execution_count": 103,
     "metadata": {},
     "output_type": "execute_result"
    }
   ],
   "source": [
    "espece_annee['1991']"
   ]
  },
  {
   "cell_type": "code",
   "execution_count": 105,
   "metadata": {},
   "outputs": [],
   "source": [
    "plantation_annee = {} # annee:{'tot': , 'max_genre': , 'genre': , 'max_espece': , 'espece':}\n",
    "for annee in annees :\n",
    "    tot = sum(genre_annee[annee].values())\n",
    "    nom_genre, max_genre = max(genre_annee[annee].items(), key=operator.itemgetter(1))\n",
    "    nom_espece, max_espece = max(espece_annee[annee].items(), key=operator.itemgetter(1))\n",
    "    plantation_annee[annee] = {\n",
    "        'tot': tot, \n",
    "        'max_genre': max_genre, \n",
    "        'genre': nom_genre, \n",
    "        'max_espece': max_espece, \n",
    "        'espece': nom_espece\n",
    "    }"
   ]
  },
  {
   "cell_type": "code",
   "execution_count": 106,
   "metadata": {},
   "outputs": [
    {
     "data": {
      "text/plain": [
       "{'': {'tot': 763,\n",
       "  'max_genre': 397,\n",
       "  'genre': '',\n",
       "  'max_espece': 397,\n",
       "  'espece': ' '},\n",
       " '2017': {'tot': 638,\n",
       "  'max_genre': 77,\n",
       "  'genre': 'Acer',\n",
       "  'max_espece': 38,\n",
       "  'espece': 'Platanus '},\n",
       " '2013': {'tot': 320,\n",
       "  'max_genre': 76,\n",
       "  'genre': 'Quercus',\n",
       "  'max_espece': 45,\n",
       "  'espece': 'Quercus castaneifolia'},\n",
       " '1971': {'tot': 69,\n",
       "  'max_genre': 26,\n",
       "  'genre': 'Platanus',\n",
       "  'max_espece': 19,\n",
       "  'espece': 'Platanus acerifolia'},\n",
       " '2004': {'tot': 349,\n",
       "  'max_genre': 58,\n",
       "  'genre': 'Prunus',\n",
       "  'max_espece': 50,\n",
       "  'espece': 'Pyrus calleryana'},\n",
       " '1968': {'tot': 112,\n",
       "  'max_genre': 40,\n",
       "  'genre': 'Acer',\n",
       "  'max_espece': 29,\n",
       "  'espece': 'Acer platanoides'},\n",
       " '1984': {'tot': 652,\n",
       "  'max_genre': 165,\n",
       "  'genre': 'Liquidambar',\n",
       "  'max_espece': 165,\n",
       "  'espece': 'Liquidambar styraciflua'},\n",
       " '1993': {'tot': 142,\n",
       "  'max_genre': 20,\n",
       "  'genre': 'Quercus',\n",
       "  'max_espece': 17,\n",
       "  'espece': 'Pinus nigra'},\n",
       " '2008': {'tot': 215,\n",
       "  'max_genre': 38,\n",
       "  'genre': 'Gleditsia',\n",
       "  'max_espece': 38,\n",
       "  'espece': 'Gleditsia triacanthos'},\n",
       " '2012': {'tot': 328,\n",
       "  'max_genre': 39,\n",
       "  'genre': 'Fraxinus',\n",
       "  'max_espece': 23,\n",
       "  'espece': 'Gleditsia triacanthos'},\n",
       " '1991': {'tot': 144,\n",
       "  'max_genre': 25,\n",
       "  'genre': 'Liriodendron',\n",
       "  'max_espece': 25,\n",
       "  'espece': 'Liriodendron tulipifera'},\n",
       " '1960': {'tot': 710,\n",
       "  'max_genre': 155,\n",
       "  'genre': 'Platanus',\n",
       "  'max_espece': 133,\n",
       "  'espece': 'Platanus acerifolia'},\n",
       " '2018': {'tot': 778,\n",
       "  'max_genre': 120,\n",
       "  'genre': 'Prunus',\n",
       "  'max_espece': 46,\n",
       "  'espece': 'Carpinus betulus'},\n",
       " '1983': {'tot': 304,\n",
       "  'max_genre': 40,\n",
       "  'genre': 'Platanus',\n",
       "  'max_espece': 38,\n",
       "  'espece': 'Platanus acerifolia'},\n",
       " '1981': {'tot': 612,\n",
       "  'max_genre': 172,\n",
       "  'genre': 'Acer',\n",
       "  'max_espece': 94,\n",
       "  'espece': 'Acer platanoides'},\n",
       " '1959': {'tot': 16,\n",
       "  'max_genre': 16,\n",
       "  'genre': 'Tilia',\n",
       "  'max_espece': 16,\n",
       "  'espece': 'Tilia tomentosa'},\n",
       " '1965': {'tot': 742,\n",
       "  'max_genre': 310,\n",
       "  'genre': 'Platanus',\n",
       "  'max_espece': 256,\n",
       "  'espece': 'Platanus acerifolia'},\n",
       " '2000': {'tot': 446,\n",
       "  'max_genre': 110,\n",
       "  'genre': 'Tilia',\n",
       "  'max_espece': 37,\n",
       "  'espece': 'Tilia cordata'},\n",
       " '1950': {'tot': 409,\n",
       "  'max_genre': 370,\n",
       "  'genre': 'Platanus',\n",
       "  'max_espece': 367,\n",
       "  'espece': 'Platanus acerifolia'},\n",
       " '2010': {'tot': 459,\n",
       "  'max_genre': 74,\n",
       "  'genre': 'Acer',\n",
       "  'max_espece': 55,\n",
       "  'espece': 'Koelreuteria paniculata'},\n",
       " '1998': {'tot': 217,\n",
       "  'max_genre': 81,\n",
       "  'genre': 'Pyrus',\n",
       "  'max_espece': 81,\n",
       "  'espece': 'Pyrus calleryana'},\n",
       " '1994': {'tot': 275,\n",
       "  'max_genre': 44,\n",
       "  'genre': 'Acer',\n",
       "  'max_espece': 36,\n",
       "  'espece': 'Prunus serrulata'},\n",
       " '1969': {'tot': 315,\n",
       "  'max_genre': 86,\n",
       "  'genre': 'Pinus',\n",
       "  'max_espece': 77,\n",
       "  'espece': 'Pinus nigra'},\n",
       " '1972': {'tot': 338,\n",
       "  'max_genre': 79,\n",
       "  'genre': 'Tilia',\n",
       "  'max_espece': 73,\n",
       "  'espece': 'Tilia tomentosa'},\n",
       " '1982': {'tot': 374,\n",
       "  'max_genre': 140,\n",
       "  'genre': 'Acer',\n",
       "  'max_espece': 47,\n",
       "  'espece': 'Acer platanoides'},\n",
       " '1966': {'tot': 87,\n",
       "  'max_genre': 23,\n",
       "  'genre': 'Fraxinus',\n",
       "  'max_espece': 23,\n",
       "  'espece': 'Fraxinus excelsior'},\n",
       " '2019': {'tot': 7,\n",
       "  'max_genre': 2,\n",
       "  'genre': 'Prunus',\n",
       "  'max_espece': 1,\n",
       "  'espece': 'Acer freemanii'},\n",
       " '1999': {'tot': 582,\n",
       "  'max_genre': 109,\n",
       "  'genre': 'Acer',\n",
       "  'max_espece': 71,\n",
       "  'espece': 'Acer pseudoplatanus'},\n",
       " '1976': {'tot': 935,\n",
       "  'max_genre': 364,\n",
       "  'genre': 'Platanus',\n",
       "  'max_espece': 332,\n",
       "  'espece': 'Platanus acerifolia'},\n",
       " '1995': {'tot': 751,\n",
       "  'max_genre': 164,\n",
       "  'genre': 'Pinus',\n",
       "  'max_espece': 138,\n",
       "  'espece': 'Pinus sylvestris'},\n",
       " '1985': {'tot': 921,\n",
       "  'max_genre': 326,\n",
       "  'genre': 'Platanus',\n",
       "  'max_espece': 322,\n",
       "  'espece': 'Platanus acerifolia'},\n",
       " '1964': {'tot': 6,\n",
       "  'max_genre': 6,\n",
       "  'genre': 'Platanus',\n",
       "  'max_espece': 6,\n",
       "  'espece': 'Platanus acerifolia'},\n",
       " '1955': {'tot': 118,\n",
       "  'max_genre': 51,\n",
       "  'genre': 'Platanus',\n",
       "  'max_espece': 47,\n",
       "  'espece': 'Platanus acerifolia'},\n",
       " '1975': {'tot': 3783,\n",
       "  'max_genre': 1086,\n",
       "  'genre': 'Acer',\n",
       "  'max_espece': 604,\n",
       "  'espece': 'Platanus acerifolia'},\n",
       " '1996': {'tot': 375,\n",
       "  'max_genre': 84,\n",
       "  'genre': 'Pinus',\n",
       "  'max_espece': 63,\n",
       "  'espece': 'Pinus nigra'},\n",
       " '1979': {'tot': 349,\n",
       "  'max_genre': 100,\n",
       "  'genre': 'Platanus',\n",
       "  'max_espece': 75,\n",
       "  'espece': 'Platanus acerifolia'},\n",
       " '2011': {'tot': 517,\n",
       "  'max_genre': 53,\n",
       "  'genre': 'Fraxinus',\n",
       "  'max_espece': 28,\n",
       "  'espece': 'Zelkova serrata'},\n",
       " '2015': {'tot': 1028,\n",
       "  'max_genre': 129,\n",
       "  'genre': 'Prunus',\n",
       "  'max_espece': 44,\n",
       "  'espece': 'Quercus cerris'},\n",
       " '1988': {'tot': 255,\n",
       "  'max_genre': 73,\n",
       "  'genre': 'Pinus',\n",
       "  'max_espece': 50,\n",
       "  'espece': 'Pinus nigra'},\n",
       " '1986': {'tot': 229,\n",
       "  'max_genre': 50,\n",
       "  'genre': 'Acer',\n",
       "  'max_espece': 36,\n",
       "  'espece': 'Platanus acerifolia'},\n",
       " '2009': {'tot': 673,\n",
       "  'max_genre': 107,\n",
       "  'genre': 'Acer',\n",
       "  'max_espece': 53,\n",
       "  'espece': 'Acer platanoides'},\n",
       " '1973': {'tot': 33,\n",
       "  'max_genre': 10,\n",
       "  'genre': 'Platanus',\n",
       "  'max_espece': 10,\n",
       "  'espece': 'Platanus acerifolia'},\n",
       " '1970': {'tot': 1391,\n",
       "  'max_genre': 422,\n",
       "  'genre': 'Acer',\n",
       "  'max_espece': 291,\n",
       "  'espece': 'Acer pseudoplatanus'},\n",
       " '2014': {'tot': 902,\n",
       "  'max_genre': 95,\n",
       "  'genre': 'Fraxinus',\n",
       "  'max_espece': 78,\n",
       "  'espece': 'Platanus platanor'},\n",
       " '2006': {'tot': 595,\n",
       "  'max_genre': 79,\n",
       "  'genre': 'Fraxinus',\n",
       "  'max_espece': 62,\n",
       "  'espece': 'Metasequoia glyptostroboides'},\n",
       " '1977': {'tot': 609,\n",
       "  'max_genre': 152,\n",
       "  'genre': 'Chamaecyparis',\n",
       "  'max_espece': 152,\n",
       "  'espece': 'Chamaecyparis lawsoniana'},\n",
       " '1944': {'tot': 27,\n",
       "  'max_genre': 27,\n",
       "  'genre': 'Populus',\n",
       "  'max_espece': 27,\n",
       "  'espece': 'Populus nigra'},\n",
       " '1992': {'tot': 223,\n",
       "  'max_genre': 43,\n",
       "  'genre': 'Carpinus',\n",
       "  'max_espece': 43,\n",
       "  'espece': 'Carpinus betulus'},\n",
       " '1997': {'tot': 233,\n",
       "  'max_genre': 54,\n",
       "  'genre': 'Fraxinus',\n",
       "  'max_espece': 53,\n",
       "  'espece': 'Fraxinus excelsior'},\n",
       " '2007': {'tot': 147,\n",
       "  'max_genre': 41,\n",
       "  'genre': 'Liriodendron',\n",
       "  'max_espece': 41,\n",
       "  'espece': 'Liriodendron tulipifera'},\n",
       " '2016': {'tot': 518,\n",
       "  'max_genre': 61,\n",
       "  'genre': 'Acer',\n",
       "  'max_espece': 36,\n",
       "  'espece': 'Amélanchier '},\n",
       " '1990': {'tot': 410,\n",
       "  'max_genre': 136,\n",
       "  'genre': 'Platanus',\n",
       "  'max_espece': 136,\n",
       "  'espece': 'Platanus acerifolia'},\n",
       " '1978': {'tot': 858,\n",
       "  'max_genre': 219,\n",
       "  'genre': 'Platanus',\n",
       "  'max_espece': 139,\n",
       "  'espece': 'Populus nigra'},\n",
       " '1980': {'tot': 1511,\n",
       "  'max_genre': 343,\n",
       "  'genre': 'Platanus',\n",
       "  'max_espece': 342,\n",
       "  'espece': 'Platanus acerifolia'},\n",
       " '1987': {'tot': 755,\n",
       "  'max_genre': 150,\n",
       "  'genre': 'Carpinus',\n",
       "  'max_espece': 150,\n",
       "  'espece': 'Carpinus betulus'},\n",
       " '1974': {'tot': 293,\n",
       "  'max_genre': 98,\n",
       "  'genre': 'Platanus',\n",
       "  'max_espece': 98,\n",
       "  'espece': 'Platanus acerifolia'},\n",
       " '2005': {'tot': 399,\n",
       "  'max_genre': 65,\n",
       "  'genre': 'Betula',\n",
       "  'max_espece': 64,\n",
       "  'espece': 'Platanus acerifolia'},\n",
       " '2003': {'tot': 347,\n",
       "  'max_genre': 97,\n",
       "  'genre': 'Acer',\n",
       "  'max_espece': 51,\n",
       "  'espece': 'Pyrus calleryana'},\n",
       " '1967': {'tot': 55,\n",
       "  'max_genre': 20,\n",
       "  'genre': 'Acer',\n",
       "  'max_espece': 18,\n",
       "  'espece': 'Acer pseudoplatanus'},\n",
       " '1924': {'tot': 12,\n",
       "  'max_genre': 3,\n",
       "  'genre': 'Crataegus',\n",
       "  'max_espece': 3,\n",
       "  'espece': 'Crataegus '},\n",
       " '2001': {'tot': 1606,\n",
       "  'max_genre': 215,\n",
       "  'genre': 'Betula',\n",
       "  'max_espece': 202,\n",
       "  'espece': 'Betula utilis'},\n",
       " '2002': {'tot': 323,\n",
       "  'max_genre': 85,\n",
       "  'genre': 'Liriodendron',\n",
       "  'max_espece': 85,\n",
       "  'espece': 'Liriodendron tulipifera'},\n",
       " '1989': {'tot': 302,\n",
       "  'max_genre': 65,\n",
       "  'genre': 'Acer',\n",
       "  'max_espece': 47,\n",
       "  'espece': 'Cercis siliquastrum'}}"
      ]
     },
     "execution_count": 106,
     "metadata": {},
     "output_type": "execute_result"
    }
   ],
   "source": [
    "plantation_annee"
   ]
  },
  {
   "cell_type": "code",
   "execution_count": 109,
   "metadata": {},
   "outputs": [],
   "source": [
    "del plantation_annee[''] # supression des annees manquantes"
   ]
  },
  {
   "cell_type": "code",
   "execution_count": 114,
   "metadata": {},
   "outputs": [
    {
     "data": {
      "text/plain": [
       "[2017,\n",
       " 2013,\n",
       " 1971,\n",
       " 2004,\n",
       " 1968,\n",
       " 1984,\n",
       " 1993,\n",
       " 2008,\n",
       " 2012,\n",
       " 1991,\n",
       " 1960,\n",
       " 2018,\n",
       " 1983,\n",
       " 1981,\n",
       " 1959,\n",
       " 1965,\n",
       " 2000,\n",
       " 1950,\n",
       " 2010,\n",
       " 1998,\n",
       " 1994,\n",
       " 1969,\n",
       " 1972,\n",
       " 1982,\n",
       " 1966,\n",
       " 2019,\n",
       " 1999,\n",
       " 1976,\n",
       " 1995,\n",
       " 1985,\n",
       " 1964,\n",
       " 1955,\n",
       " 1975,\n",
       " 1996,\n",
       " 1979,\n",
       " 2011,\n",
       " 2015,\n",
       " 1988,\n",
       " 1986,\n",
       " 2009,\n",
       " 1973,\n",
       " 1970,\n",
       " 2014,\n",
       " 2006,\n",
       " 1977,\n",
       " 1944,\n",
       " 1992,\n",
       " 1997,\n",
       " 2007,\n",
       " 2016,\n",
       " 1990,\n",
       " 1978,\n",
       " 1980,\n",
       " 1987,\n",
       " 1974,\n",
       " 2005,\n",
       " 2003,\n",
       " 1967,\n",
       " 1924,\n",
       " 2001,\n",
       " 2002,\n",
       " 1989]"
      ]
     },
     "execution_count": 114,
     "metadata": {},
     "output_type": "execute_result"
    }
   ],
   "source": [
    "[int(key) for key in plantation_annee.keys()]"
   ]
  },
  {
   "cell_type": "code",
   "execution_count": 143,
   "metadata": {},
   "outputs": [
    {
     "data": {
      "image/png": "[encoded data removed]",
      "text/plain": [
       "<Figure size 432x288 with 1 Axes>"
      ]
     },
     "metadata": {
      "needs_background": "light"
     },
     "output_type": "display_data"
    }
   ],
   "source": [
    "fig, ax = plt.subplots() \n",
    "ax.scatter(\n",
    "    [int(annee) for annee in annees if annee!=''], \n",
    "    [int(plantation_annee[annee]['tot']) for annee in annees if annee!='']\n",
    ")\n",
    "ax.set_xlabel('Année')\n",
    "ax.set_ylabel(\"Nombre d'arbres plantés\")\n",
    "plt.show()"
   ]
  },
  {
   "cell_type": "code",
   "execution_count": 152,
   "metadata": {},
   "outputs": [
    {
     "data": {
      "image/png": "[encoded data removed]",
      "text/plain": [
       "<Figure size 432x288 with 1 Axes>"
      ]
     },
     "metadata": {
      "needs_background": "light"
     },
     "output_type": "display_data"
    }
   ],
   "source": [
    "fig, ax = plt.subplots() \n",
    "ax.scatter(\n",
    "    [int(annee) for annee in annees if annee!=''], \n",
    "    [int(plantation_annee[annee]['max_genre'])/int(plantation_annee[annee]['tot'])*100 \n",
    "     for annee in annees if annee!=''],\n",
    "    label = 'Genre'\n",
    ")\n",
    "ax.scatter(\n",
    "    [int(annee) for annee in annees if annee!=''], \n",
    "    [int(plantation_annee[annee]['max_espece'])/int(plantation_annee[annee]['tot'])*100 \n",
    "     for annee in annees if annee!=''],\n",
    "    label = 'Espece'\n",
    ")\n",
    "ax.set_xlabel('Année')\n",
    "ax.set_ylabel(\"Pourcentage\")\n",
    "ax.legend()\n",
    "ax.set_title('Evolution du pourcentage maximal des nouvelles plantations')\n",
    "plt.show()"
   ]
  },
  {
   "cell_type": "code",
   "execution_count": 160,
   "metadata": {},
   "outputs": [],
   "source": [
    "def population_annee(annee) :\n",
    "    \"\"\"return the total number of trees and the number of the over-represented\n",
    "    genre and specie that year, taking into account the removed trees\"\"\"\n",
    "    tot = 0\n",
    "    genre = {}\n",
    "    espece = {}\n",
    "    for row in data_dict :\n",
    "        if row['ANNEEDEPLANTATION']!='' and int(row['ANNEEDEPLANTATION'])<=annee :\n",
    "            # l'arbre a ete plante cette annee ou avant\n",
    "            if row['ANNEEABATTAGE']=='' or int(row['ANNEEABATTAGE'])>annee :\n",
    "                #l'arbre existe encore cette annee\n",
    "                tot+=1\n",
    "                #on ajoute son genre\n",
    "                if row['GENRE_BOTA'] in genre :\n",
    "                    genre[row['GENRE_BOTA']] += 1\n",
    "                else :\n",
    "                    genre[row['GENRE_BOTA']] = 1\n",
    "                #on ajoute son espece\n",
    "                if row['GENRE_BOTA']+\" \"+row['ESPECE'] in espece :\n",
    "                    espece[row['GENRE_BOTA']+\" \"+row['ESPECE']] += 1\n",
    "                else :\n",
    "                    espece[row['GENRE_BOTA']+\" \"+row['ESPECE']] = 1\n",
    "    #print(tot, genre, espece)\n",
    "    return(\n",
    "        tot,\n",
    "        max(genre.items(), key=operator.itemgetter(1))[1],\n",
    "        max(espece.items(), key=operator.itemgetter(1))[1],\n",
    "    )"
   ]
  },
  {
   "cell_type": "code",
   "execution_count": 178,
   "metadata": {},
   "outputs": [
    {
     "data": {
      "text/plain": [
       "(2040, 892, 809)"
      ]
     },
     "execution_count": 178,
     "metadata": {},
     "output_type": "execute_result"
    }
   ],
   "source": [
    "population_annee(1965)"
   ]
  },
  {
   "cell_type": "code",
   "execution_count": 166,
   "metadata": {},
   "outputs": [],
   "source": [
    "pop_evo = []\n",
    "genre_evo = []\n",
    "espece_evo = []\n",
    "for ann in range(1924,2020) :\n",
    "    pop,gen,esp = population_annee(ann)\n",
    "    pop_evo.append(pop)\n",
    "    genre_evo.append(gen)\n",
    "    espece_evo.append(esp)"
   ]
  },
  {
   "cell_type": "code",
   "execution_count": 171,
   "metadata": {},
   "outputs": [
    {
     "data": {
      "image/png": "[encoded data removed]",
      "text/plain": [
       "<Figure size 432x288 with 1 Axes>"
      ]
     },
     "metadata": {
      "needs_background": "light"
     },
     "output_type": "display_data"
    }
   ],
   "source": [
    "fig,ax = plt.subplots()\n",
    "ax.scatter(range(1924,2020),pop_evo,label='Total')\n",
    "ax.scatter(range(1924,2020),genre_evo,label='Genre')\n",
    "ax.scatter(range(1924,2020),espece_evo,label='Espece')\n",
    "\n",
    "ax.set_xlabel('Année')\n",
    "ax.set_ylabel(\"Nombre d'arbres\")\n",
    "ax.legend()\n",
    "ax.set_title(\"Evolution en terme de nombre d'arbres\")\n",
    "plt.show()"
   ]
  },
  {
   "cell_type": "code",
   "execution_count": 172,
   "metadata": {},
   "outputs": [
    {
     "data": {
      "image/png": "[encoded data removed]",
      "text/plain": [
       "<Figure size 432x288 with 1 Axes>"
      ]
     },
     "metadata": {
      "needs_background": "light"
     },
     "output_type": "display_data"
    }
   ],
   "source": [
    "pour_gen = [gen/tot*100 for (gen,tot) in zip(genre_evo,pop_evo)]\n",
    "pour_esp = [esp/tot*100 for (esp,tot) in zip(espece_evo,pop_evo)]\n",
    "\n",
    "fig,ax = plt.subplots()\n",
    "ax.scatter(range(1924,2020),pour_gen,label='Genre')\n",
    "ax.scatter(range(1924,2020),pour_esp,label='Espece')\n",
    "\n",
    "ax.set_xlabel('Année')\n",
    "ax.set_ylabel(\"Pourcentage de la population\")\n",
    "ax.legend()\n",
    "ax.set_title(\"Evolution en terme de pourcentages\")\n",
    "plt.show()"
   ]
  },
  {
   "cell_type": "code",
   "execution_count": 177,
   "metadata": {},
   "outputs": [
    {
     "name": "stdout",
     "output_type": "stream",
     "text": [
      "A l'heure actuelle, il y a 16.8 % du genre prédominant et 12.8 % de l'espèce prédominante.\n"
     ]
    }
   ],
   "source": [
    "print(f\"A l'heure actuelle, il y a {pour_gen[-1]:.1f} % du genre prédominant\",\n",
    "      f\"et {pour_esp[-1]:.1f} % de l'espèce prédominante.\")"
   ]
  },
  {
   "cell_type": "markdown",
   "metadata": {},
   "source": [
    "Conclusions de ce travail :\n",
    "- Le nombre d'arbres sur la métropole est en constante augmentation depuis 1924.\n",
    "- Depuis 1960, la politique de plantation des arbres a visé à réduire les pourcentages du genre et de l'espèce dominants, passant ces valeurs de 45% à moins de 20%.\n",
    "- L'objectif de la métropole est atteint en terme de genre (16.8 % du genre dominant) mais pas en terme d'espèce (12.8 %)."
   ]
  },
  {
   "cell_type": "code",
   "execution_count": null,
   "metadata": {},
   "outputs": [],
   "source": []
  }
 ],
 "metadata": {
  "kernelspec": {
   "display_name": "Python 3",
   "language": "python",
   "name": "python3"
  },
  "language_info": {
   "codemirror_mode": {
    "name": "ipython",
    "version": 3
   },
   "file_extension": ".py",
   "mimetype": "text/x-python",
   "name": "python",
   "nbconvert_exporter": "python",
   "pygments_lexer": "ipython3",
   "version": "3.8.3"
  }
 },
 "nbformat": 4,
 "nbformat_minor": 4
}
